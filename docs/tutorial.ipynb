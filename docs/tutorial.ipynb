{
 "cells": [
  {
   "cell_type": "markdown",
   "metadata": {},
   "source": [
    "# Mikrokosmos: a lambda calculus tutorial\n",
    "\n",
    "This tutorial should cover\n",
    "\n",
    " - Basic lambda calculus.\n",
    " - Pairs and logic.\n",
    " - Church numerals and arithmetic.\n",
    " - SKI combinators.\n",
    " - Data structures: pairs, lists and trees.\n",
    " - Recursion."
   ]
  },
  {
   "cell_type": "markdown",
   "metadata": {},
   "source": [
    "## 1. Basic lambda calculus"
   ]
  },
  {
   "cell_type": "code",
   "execution_count": 38,
   "metadata": {},
   "outputs": [
    {
     "name": "stdout",
     "output_type": "stream",
     "text": [
      "\u001b[?1l\u001b[22;34m\u001b[m\u001b[?1h\u001b[1;94m\u001b[?1l\u001b[22;34m\u001b[m\u001b[?1h\u001b[1;94m\u001b[?1l\u001b[22;34m\u001b[m\u001b[?1h\u001b[1;94m"
     ]
    }
   ],
   "source": [
    "id = \\x.x\n",
    "const = \\x.\\y.x\n",
    "compose = \\f.\\g.\\x.f (g x)"
   ]
  },
  {
   "cell_type": "markdown",
   "metadata": {},
   "source": [
    "## 2. Logic\n",
    "\n",
    "### 2.1. The booleans\n",
    "\n",
    "Boolean logic can be encoded in lambda calculus. Our intuition on what means to be a truth value is that it can distinghish between two values (**true** or **false**) or two branches on a program (if ... else ...).\n",
    "\n",
    "We are going to use this intuition to write an encoding of boolean values based on their ability to choose between two branches. Maybe surprisingly, this encoding will be also useful to write the usual boolean logic gates."
   ]
  },
  {
   "cell_type": "code",
   "execution_count": 2,
   "metadata": {},
   "outputs": [
    {
     "name": "stdout",
     "output_type": "stream",
     "text": [
      "\u001b[?1l\u001b[22;34m\u001b[m\u001b[?1h\u001b[1;94m\u001b[?1l\u001b[22;34m\u001b[m\u001b[?1h\u001b[1;94m\u001b[?1l\u001b[22;34m\u001b[m\u001b[?1h\u001b[1;94m"
     ]
    }
   ],
   "source": [
    "# Church encoding of boolean truth values\n",
    "true  = \\a.\\b.a\n",
    "false = \\a.\\b.b"
   ]
  },
  {
   "cell_type": "markdown",
   "metadata": {},
   "source": [
    "Here, a truth value is a function on two elements that chooses one of them.\n",
    "\n",
    " - $\\mathtt{true}\\ a\\ b  = a$\n",
    " - $\\mathtt{false}\\ a\\ b = b$\n",
    "\n",
    "This is called the *Church encoding* of the booleans, as it was used by Alonzo Church. This idea of defining a type based not on its content but on how it can be used will appear later, when we define more complex data structures. "
   ]
  },
  {
   "cell_type": "code",
   "execution_count": 3,
   "metadata": {},
   "outputs": [
    {
     "name": "stdout",
     "output_type": "stream",
     "text": [
      "\u001b[?1l\u001b[22;34m\u001b[m\u001b[?1h\u001b[1;94m\u001b[?1l\u001b[22;34mλa.a\u001b[32m ⇒ id\u001b[m\r\n",
      "\u001b[m\u001b[?1h\u001b[1;94m\u001b[?1l\u001b[22;34mλa.λb.a\u001b[32m ⇒ true, const\u001b[m\r\n",
      "\u001b[m\u001b[?1h\u001b[1;94m\u001b[?1l\u001b[22;34mλa.λb.a\u001b[32m ⇒ true, const\u001b[m\r\n",
      "\u001b[m\u001b[?1h\u001b[1;94m\u001b[?1l\u001b[22;34mλa.λb.b\u001b[32m ⇒ false\u001b[m\r\n",
      "\u001b[m\u001b[?1h\u001b[1;94m"
     ]
    }
   ],
   "source": [
    "# Examples\n",
    "true id const\n",
    "false id const\n",
    "true true false\n",
    "false true false"
   ]
  },
  {
   "cell_type": "markdown",
   "metadata": {},
   "source": [
    "In particular, `true` is exactly the same lambda term as `const`."
   ]
  },
  {
   "cell_type": "markdown",
   "metadata": {},
   "source": [
    "### 2.2. If-else "
   ]
  },
  {
   "cell_type": "markdown",
   "metadata": {},
   "source": [
    "The advantage of this way of encoding the boolean values is that they can be easily used in combination with other lambda terms. In particular, the way to encode an if-else is almost trivial: it is already encoded on the lambda terms!"
   ]
  },
  {
   "cell_type": "code",
   "execution_count": 4,
   "metadata": {},
   "outputs": [
    {
     "name": "stdout",
     "output_type": "stream",
     "text": [
      "\u001b[?1l\u001b[22;34m\u001b[m\u001b[?1h\u001b[1;94m\u001b[?1l\u001b[22;34m\u001b[m\u001b[?1h\u001b[1;94m\u001b[?1l\u001b[22;34mλa.a\u001b[32m ⇒ id\u001b[m\r\n",
      "\u001b[m\u001b[?1h\u001b[1;94m\u001b[?1l\u001b[22;34mλa.λb.a\u001b[32m ⇒ true, const\u001b[m\r\n",
      "\u001b[m\u001b[?1h\u001b[1;94m"
     ]
    }
   ],
   "source": [
    "# If true, then the id function will be returned\n",
    "# if false, then the const function will be returned \n",
    "(\\b. b id const) true\n",
    "(\\b. b id const) false"
   ]
  },
  {
   "cell_type": "markdown",
   "metadata": {},
   "source": [
    "If we really want to write an `if-else` function, it will be, quite literally, a trivial one"
   ]
  },
  {
   "cell_type": "code",
   "execution_count": 5,
   "metadata": {},
   "outputs": [
    {
     "name": "stdout",
     "output_type": "stream",
     "text": [
      "\u001b[?1l\u001b[22;34m\u001b[m\u001b[?1h\u001b[1;94m\u001b[?1l\u001b[22;34mλa.a\u001b[32m ⇒ ifelse, id\u001b[m\r\n",
      "\u001b[m\u001b[?1h\u001b[1;94m\u001b[?1l\u001b[22;34mλa.λb.a\u001b[32m ⇒ true, const\u001b[m\r\n",
      "\u001b[m\u001b[?1h\u001b[1;94m"
     ]
    }
   ],
   "source": [
    "ifelse = \\b.b\n",
    "(ifelse true) id const\n",
    "(ifelse false) id const"
   ]
  },
  {
   "cell_type": "markdown",
   "metadata": {},
   "source": [
    "### 2.3. Logic gates"
   ]
  },
  {
   "cell_type": "markdown",
   "metadata": {},
   "source": [
    "Usual operations on booleans can be defined too on this encoding and they will be surprisingly easy if we think of booleans as functions choosing from two terms."
   ]
  },
  {
   "cell_type": "code",
   "execution_count": 6,
   "metadata": {},
   "outputs": [
    {
     "name": "stdout",
     "output_type": "stream",
     "text": [
      "\u001b[?1l\u001b[22;34m\u001b[m\u001b[?1h\u001b[1;94m\u001b[?1l\u001b[22;34m\u001b[m\u001b[?1h\u001b[1;94m\u001b[?1l\u001b[22;34m\u001b[m\u001b[?1h\u001b[1;94m"
     ]
    }
   ],
   "source": [
    "# The and gate takes two booleans and returns a true if and only if \n",
    "# the two given booleans are true. \n",
    "and = \\p.\\q.p q p"
   ]
  },
  {
   "cell_type": "code",
   "execution_count": 7,
   "metadata": {},
   "outputs": [
    {
     "name": "stdout",
     "output_type": "stream",
     "text": [
      "\u001b[?1l\u001b[22;34m\u001b[m\u001b[?1h\u001b[1;94m\u001b[?1l\u001b[22;34mλa.λb.a\u001b[32m ⇒ true, const\u001b[m\r\n",
      "\u001b[m\u001b[?1h\u001b[1;94m\u001b[?1l\u001b[22;34mλa.λb.b\u001b[32m ⇒ false\u001b[m\r\n",
      "\u001b[m\u001b[?1h\u001b[1;94m\u001b[?1l\u001b[22;34mλa.λb.b\u001b[32m ⇒ false\u001b[m\r\n",
      "\u001b[m\u001b[?1h\u001b[1;94m\u001b[?1l\u001b[22;34mλa.λb.b\u001b[32m ⇒ false\u001b[m\r\n",
      "\u001b[m\u001b[?1h\u001b[1;94m"
     ]
    }
   ],
   "source": [
    "# Checking the truth table for the and gate\n",
    "and true true\n",
    "and true false\n",
    "and false true\n",
    "and false false"
   ]
  },
  {
   "cell_type": "markdown",
   "metadata": {},
   "source": [
    "**Exercise:** Think why this definition of the `and` gate works.\n",
    "\n",
    "*Hint: think what happens when the first argument is a `true`. What happens if it is a `false`?*"
   ]
  },
  {
   "cell_type": "markdown",
   "metadata": {},
   "source": [
    "The `or` gate can be defined in a similar way."
   ]
  },
  {
   "cell_type": "code",
   "execution_count": 8,
   "metadata": {},
   "outputs": [
    {
     "name": "stdout",
     "output_type": "stream",
     "text": [
      "\u001b[?1l\u001b[22;34m\u001b[m\u001b[?1h\u001b[1;94m\u001b[?1l\u001b[22;34m\u001b[m\u001b[?1h\u001b[1;94m\u001b[?1l\u001b[22;34m\u001b[m\u001b[?1h\u001b[1;94m"
     ]
    }
   ],
   "source": [
    "# The or gate takes two booleans and returns a true if and only if\n",
    "# any of them (or both) are true.\n",
    "or = \\p.\\q.p p q"
   ]
  },
  {
   "cell_type": "code",
   "execution_count": 9,
   "metadata": {},
   "outputs": [
    {
     "name": "stdout",
     "output_type": "stream",
     "text": [
      "\u001b[?1l\u001b[22;34m\u001b[m\u001b[?1h\u001b[1;94m\u001b[?1l\u001b[22;34mλa.λb.a\u001b[32m ⇒ true, const\u001b[m\r\n",
      "\u001b[m\u001b[?1h\u001b[1;94m\u001b[?1l\u001b[22;34mλa.λb.a\u001b[32m ⇒ true, const\u001b[m\r\n",
      "\u001b[m\u001b[?1h\u001b[1;94m\u001b[?1l\u001b[22;34mλa.λb.a\u001b[32m ⇒ true, const\u001b[m\r\n",
      "\u001b[m\u001b[?1h\u001b[1;94m\u001b[?1l\u001b[22;34mλa.λb.b\u001b[32m ⇒ false\u001b[m\r\n",
      "\u001b[m\u001b[?1h\u001b[1;94m"
     ]
    }
   ],
   "source": [
    "# Checking the truth table for the and gate\n",
    "or true true\n",
    "or true false\n",
    "or false true\n",
    "or false false"
   ]
  },
  {
   "cell_type": "markdown",
   "metadata": {},
   "source": [
    "And finally, the negation operator is only a way of interchanging the two truth values"
   ]
  },
  {
   "cell_type": "code",
   "execution_count": 10,
   "metadata": {},
   "outputs": [
    {
     "name": "stdout",
     "output_type": "stream",
     "text": [
      "\u001b[?1l\u001b[22;34m\u001b[m\u001b[?1h\u001b[1;94m"
     ]
    }
   ],
   "source": [
    "not = \\b.b false true"
   ]
  },
  {
   "cell_type": "code",
   "execution_count": 16,
   "metadata": {},
   "outputs": [
    {
     "name": "stdout",
     "output_type": "stream",
     "text": [
      "\u001b[?1l\u001b[22;34mλa.λb.b\u001b[32m ⇒ false\u001b[m\r\n",
      "\u001b[m\u001b[?1h\u001b[1;94m\u001b[?1l\u001b[22;34mλa.λb.a\u001b[32m ⇒ true, const\u001b[m\r\n",
      "\u001b[m\u001b[?1h\u001b[1;94m\u001b[?1l\u001b[22;34mλa.λb.b\u001b[32m ⇒ false\u001b[m\r\n",
      "\u001b[m\u001b[?1h\u001b[1;94m"
     ]
    }
   ],
   "source": [
    "not true\n",
    "not false\n",
    "not (and true true)"
   ]
  },
  {
   "cell_type": "markdown",
   "metadata": {},
   "source": [
    "The boolean logic implication operator works also as a boolean gate, it can be defined as\n",
    "\n",
    "$$(a \\to b) \\equiv (\\neg a) \\vee b,$$\n",
    "\n",
    "that is, the implication is true if both are true or if the premise is false."
   ]
  },
  {
   "cell_type": "code",
   "execution_count": 21,
   "metadata": {},
   "outputs": [
    {
     "name": "stdout",
     "output_type": "stream",
     "text": [
      "\u001b[?1l\u001b[22;34m\u001b[m\u001b[?1h\u001b[1;94m"
     ]
    }
   ],
   "source": [
    "implies = \\a.\\b.or (not a) b"
   ]
  },
  {
   "cell_type": "markdown",
   "metadata": {},
   "source": [
    "**Exercise:** Compute the logic table for the implication using the previous definition."
   ]
  },
  {
   "cell_type": "code",
   "execution_count": null,
   "metadata": {
    "collapsed": true
   },
   "outputs": [],
   "source": [
    "# -- Your solution goes here"
   ]
  },
  {
   "cell_type": "markdown",
   "metadata": {},
   "source": [
    "**Exercise:** Compute the following logic clauses using lambda calculus\n",
    " \n",
    " - True or false implies false.\n",
    " - False implies that: false implies false.\n",
    " - The negation of false and the negation of true both imply true."
   ]
  },
  {
   "cell_type": "code",
   "execution_count": null,
   "metadata": {
    "collapsed": true
   },
   "outputs": [],
   "source": [
    "# -- Your solution goes here"
   ]
  },
  {
   "cell_type": "markdown",
   "metadata": {},
   "source": [
    "**Exercise:** Define the `xor` gate as a lambda term. The `xor` of two boolean values must return a true if and only if *exactly one* of them are true. Check also its logic table.\n",
    "\n",
    "*Hint: you may want to use the already defined `not`.*"
   ]
  },
  {
   "cell_type": "code",
   "execution_count": 14,
   "metadata": {},
   "outputs": [
    {
     "name": "stdout",
     "output_type": "stream",
     "text": [
      "\u001b[?1l\u001b[22;34m\u001b[m\u001b[?1h\u001b[1;94m"
     ]
    }
   ],
   "source": [
    "# -- Your solution goes here"
   ]
  },
  {
   "cell_type": "markdown",
   "metadata": {},
   "source": [
    "## 3. Church numerals and arithmetic"
   ]
  },
  {
   "cell_type": "markdown",
   "metadata": {},
   "source": [
    "### 3.1. Peano and the natural numbers\n",
    "\n",
    "In the 19th century, Giuseppe Peano gave a definition of the natural numbers and an axiomatic theory of them based on only two contructors\n",
    "\n",
    " - The zero is a natural number, written as Z.\n",
    " - The successor of a natural number is a natural number, written as S.\n",
    " \n",
    "In those terms, the usual natural numbers will be \n",
    "\n",
    "$$ Z,\\ SZ,\\ S(SZ),\\ S(S(SZ)),\\ \\dots $$\n",
    " \n",
    "The question is now how can we encode them on lambda calculus. We do not have the ability to write the two constructors on lambda calculus, so we will make the natural numbers depend on them. This is again the same idea we used when we tried to encode booleans, we do not care about the content, but about how can we use them later."
   ]
  },
  {
   "cell_type": "code",
   "execution_count": 24,
   "metadata": {},
   "outputs": [
    {
     "name": "stdout",
     "output_type": "stream",
     "text": [
      "\u001b[?1l\u001b[22;34m\u001b[m\u001b[?1h\u001b[1;94m\u001b[?1l\u001b[22;34m\u001b[m\u001b[?1h\u001b[1;94m\u001b[?1l\u001b[22;34m\u001b[m\u001b[?1h\u001b[1;94m"
     ]
    }
   ],
   "source": [
    "# Definition of the natural numbers\n",
    "0 = \\s.\\z.z\n",
    "succ = \\n.\\s.\\z.s (n s z)"
   ]
  },
  {
   "cell_type": "markdown",
   "metadata": {},
   "source": [
    "This definition of `0` is trivial: given a successor function and a zero, return the zero. The successor function seems more complex, but it uses the same underlying idea: given a number, a successor and a zero, apply the successor to the interpretation of that number using the same successor and zero."
   ]
  },
  {
   "cell_type": "code",
   "execution_count": 26,
   "metadata": {},
   "outputs": [
    {
     "name": "stdout",
     "output_type": "stream",
     "text": [
      "\u001b[?1l\u001b[22;34m\u001b[m\u001b[?1h\u001b[1;94m\u001b[?1l\u001b[22;34m\u001b[m\u001b[?1h\u001b[1;94m\u001b[?1l\u001b[22;34m\u001b[m\u001b[?1h\u001b[1;94m\u001b[?1l\u001b[22;34m\u001b[m\u001b[?1h\u001b[1;94m\u001b[?1l\u001b[22;34m\u001b[m\u001b[?1h\u001b[1;94m\u001b[?1l\u001b[22;34m\u001b[m\u001b[?1h\u001b[1;94m\u001b[?1l\u001b[22;34m\u001b[m\u001b[?1h\u001b[1;94m\u001b[?1l\u001b[22;34m\u001b[m\u001b[?1h\u001b[1;94m\u001b[?1l\u001b[22;34m\u001b[m\u001b[?1h\u001b[1;94m\u001b[?1l\u001b[22;34m\u001b[m\u001b[?1h\u001b[1;94m\u001b[?1l\u001b[22;34m\u001b[m\u001b[?1h\u001b[1;94m\u001b[?1l\u001b[22;34m\u001b[m\u001b[?1h\u001b[1;94m\u001b[?1l\u001b[22;34m\u001b[m\u001b[?1h\u001b[1;94m\u001b[?1l\u001b[22;34m\u001b[m\u001b[?1h\u001b[1;94m\u001b[?1l\u001b[22;34m\u001b[m\u001b[?1h\u001b[1;94m\u001b[?1l\u001b[22;34m\u001b[m\u001b[?1h\u001b[1;94m\u001b[?1l\u001b[22;34m\u001b[m\u001b[?1h\u001b[1;94m\u001b[?1l\u001b[22;34m\u001b[m\u001b[?1h\u001b[1;94m\u001b[?1l\u001b[22;34m\u001b[m\u001b[?1h\u001b[1;94m\u001b[?1l\u001b[22;34m\u001b[m\u001b[?1h\u001b[1;94m\u001b[?1l\u001b[22;34m\u001b[m\u001b[?1h\u001b[1;94m"
     ]
    }
   ],
   "source": [
    "# Names of the first twenty natural numbers\n",
    "1  = succ 0\n",
    "2  = succ 1\n",
    "3  = succ 2\n",
    "4  = succ 3\n",
    "5  = succ 4\n",
    "6  = succ 5\n",
    "7  = succ 6\n",
    "8  = succ 7\n",
    "9  = succ 8\n",
    "10 = succ 9\n",
    "11 = succ 10\n",
    "12 = succ 11\n",
    "13 = succ 12\n",
    "14 = succ 13\n",
    "15 = succ 14\n",
    "16 = succ 15\n",
    "17 = succ 16\n",
    "18 = succ 17\n",
    "19 = succ 18\n",
    "20 = succ 19"
   ]
  },
  {
   "cell_type": "markdown",
   "metadata": {},
   "source": [
    "Under this interpretation, a number `n` is really a function taking a function `a` as an argument and applying it `n` times over the argument `b`."
   ]
  },
  {
   "cell_type": "code",
   "execution_count": 32,
   "metadata": {},
   "outputs": [
    {
     "name": "stdout",
     "output_type": "stream",
     "text": [
      "\u001b[?1l\u001b[22;34mλa.λb.(a (a (a (a (a b)))))\u001b[32m ⇒ 5\u001b[m\r\n",
      "\u001b[m\u001b[?1h\u001b[1;94m"
     ]
    }
   ],
   "source": [
    "5"
   ]
  },
  {
   "cell_type": "code",
   "execution_count": 33,
   "metadata": {},
   "outputs": [
    {
     "name": "stdout",
     "output_type": "stream",
     "text": [
      "\u001b[?1l\u001b[22;34mλa.λb.b\u001b[32m ⇒ 0, false\u001b[m\r\n",
      "\u001b[m\u001b[?1h\u001b[1;94m\u001b[?1l\u001b[22;34mλa.λb.b\u001b[32m ⇒ 0, false\u001b[m\r\n",
      "\u001b[m\u001b[?1h\u001b[1;94m"
     ]
    }
   ],
   "source": [
    "5 not true\n",
    "4 not false"
   ]
  },
  {
   "cell_type": "markdown",
   "metadata": {},
   "source": [
    "**Exercise:** Define a function that takes a natural number and returns true if and only if the number is even.\n",
    "\n",
    "*Hint: you may want to interpret the given number as a function.*"
   ]
  },
  {
   "cell_type": "code",
   "execution_count": null,
   "metadata": {
    "collapsed": true
   },
   "outputs": [],
   "source": [
    "# -- Your solution goes here"
   ]
  },
  {
   "cell_type": "markdown",
   "metadata": {},
   "source": [
    "### 3.2. Addition and multiplication\n",
    "\n",
    "The encoding of the addition and multiplication of natural numbers will profit from the interpretation of numbers as functions. This is, in fact, the only way we can use naturals; but we will quickly see that this is an strenght instead of a weakness of our encoding. We are really encoding naturals as their induction principle: we can define a function by defining a zero and a successor.\n",
    "\n",
    "The `double` function will only change the successor for the composition of the successor function with itself."
   ]
  },
  {
   "cell_type": "code",
   "execution_count": 39,
   "metadata": {},
   "outputs": [
    {
     "name": "stdout",
     "output_type": "stream",
     "text": [
      "\u001b[?1l\u001b[22;34m\u001b[m\u001b[?1h\u001b[1;94m"
     ]
    }
   ],
   "source": [
    "double = \\n.\\s.\\z.n (compose s s) z"
   ]
  },
  {
   "cell_type": "code",
   "execution_count": 43,
   "metadata": {},
   "outputs": [
    {
     "name": "stdout",
     "output_type": "stream",
     "text": [
      "\u001b[?1l\u001b[22;34mλa.λb.b\u001b[32m ⇒ 0, false\u001b[m\r\n",
      "\u001b[m\u001b[?1h\u001b[1;94m\u001b[?1l\u001b[22;34mλa.λb.(a (a (a (a (a (a b))))))\u001b[32m ⇒ 6\u001b[m\r\n",
      "\u001b[m\u001b[?1h\u001b[1;94m\u001b[?1l\u001b[22;34mλa.λb.(a (a (a (a (a (a (a (a b))))))))\u001b[32m ⇒ 8\u001b[m\r\n",
      "\u001b[m\u001b[?1h\u001b[1;94m"
     ]
    }
   ],
   "source": [
    "double 0\n",
    "double 3\n",
    "double 4"
   ]
  },
  {
   "cell_type": "markdown",
   "metadata": {},
   "source": [
    "**Exercise:** Define a `triple` function."
   ]
  },
  {
   "cell_type": "code",
   "execution_count": null,
   "metadata": {
    "collapsed": true
   },
   "outputs": [],
   "source": [
    "# -- Your solution goes here"
   ]
  },
  {
   "cell_type": "markdown",
   "metadata": {},
   "source": [
    "We are going now to define **addition** using this same principle. It takes a successor and a zero, computes the first number as `(n s z)` and then uses it as a zero on the interpretation of the second one."
   ]
  },
  {
   "cell_type": "code",
   "execution_count": 46,
   "metadata": {},
   "outputs": [
    {
     "name": "stdout",
     "output_type": "stream",
     "text": [
      "\u001b[?1l\u001b[22;34m\u001b[m\u001b[?1h\u001b[1;94m"
     ]
    }
   ],
   "source": [
    "plus = \\m.\\n.\\s.\\z.m s (n s z)"
   ]
  },
  {
   "cell_type": "code",
   "execution_count": 47,
   "metadata": {},
   "outputs": [
    {
     "name": "stdout",
     "output_type": "stream",
     "text": [
      "\u001b[?1l\u001b[22;34mλa.λb.(a (a (a b)))\u001b[32m ⇒ 3\u001b[m\r\n",
      "\u001b[m\u001b[?1h\u001b[1;94m\u001b[?1l\u001b[22;34mλa.λb.(a (a (a (a (a (a (a b)))))))\u001b[32m ⇒ 7\u001b[m\r\n",
      "\u001b[m\u001b[?1h\u001b[1;94m\u001b[?1l\u001b[22;34mλa.λb.(a (a (a (a (a b)))))\u001b[32m ⇒ 5\u001b[m\r\n",
      "\u001b[m\u001b[?1h\u001b[1;94m"
     ]
    }
   ],
   "source": [
    "plus 2 1\n",
    "plus 3 4\n",
    "plus 0 5"
   ]
  },
  {
   "cell_type": "markdown",
   "metadata": {},
   "source": [
    "**Exercise:** How would you define multiplication? Keep in mind that you can use a number as a function. Keep also in mind the previous exercises on `double` and `triple`.\n",
    "\n",
    "*Spoilers below!*"
   ]
  },
  {
   "cell_type": "code",
   "execution_count": 50,
   "metadata": {},
   "outputs": [
    {
     "name": "stdout",
     "output_type": "stream",
     "text": [
      "\u001b[?1l\u001b[22;34m\u001b[m\u001b[?1h\u001b[1;94m"
     ]
    }
   ],
   "source": [
    "# -- Your solution goes here\n",
    "# mymult ="
   ]
  },
  {
   "cell_type": "markdown",
   "metadata": {},
   "source": [
    "There many possible ways of defining multiplication. Some of them can use the repeated application of `plus` to a number; but we are going to define **multiplication** in a way that is similar to how we defined `double` previously. We are going to interpret the successor as the n-fold application of successor."
   ]
  },
  {
   "cell_type": "code",
   "execution_count": 52,
   "metadata": {},
   "outputs": [
    {
     "name": "stdout",
     "output_type": "stream",
     "text": [
      "\u001b[?1l\u001b[22;34m\u001b[m\u001b[?1h\u001b[1;94m"
     ]
    }
   ],
   "source": [
    "mult = \\m.\\n.\\s.\\z.m (n s) z"
   ]
  },
  {
   "cell_type": "code",
   "execution_count": 54,
   "metadata": {},
   "outputs": [
    {
     "name": "stdout",
     "output_type": "stream",
     "text": [
      "\u001b[?1l\u001b[22;34mλa.λb.b\u001b[32m ⇒ 0, false\u001b[m\r\n",
      "\u001b[m\u001b[?1h\u001b[1;94m\u001b[?1l\u001b[22;34mλa.λb.(a (a (a (a (a b)))))\u001b[32m ⇒ 5\u001b[m\r\n",
      "\u001b[m\u001b[?1h\u001b[1;94m\u001b[?1l\u001b[22;34mλa.λb.(a (a (a (a (a (a (a (a (a (a (a (a b))))))))))))\u001b[32m ⇒ 12\u001b[m\r\n",
      "\u001b[m\u001b[?1h\u001b[1;94m"
     ]
    }
   ],
   "source": [
    "mult 0 3\n",
    "mult 1 5\n",
    "mult 3 4"
   ]
  },
  {
   "cell_type": "markdown",
   "metadata": {},
   "source": [
    "### 3.3. The predecessor function"
   ]
  },
  {
   "cell_type": "markdown",
   "metadata": {},
   "source": [
    "But, how to compute the predecessor of a number? We have not encoded negative numbers, so it could be a function returning zero whenever it tries to get the predecessor of zero. It is an insightful exercise to try to define it by yourself, but please, do not get too obsessed with it. The solution is certainly not easy. "
   ]
  },
  {
   "cell_type": "code",
   "execution_count": null,
   "metadata": {
    "collapsed": true
   },
   "outputs": [],
   "source": [
    "# -- You can try here\n",
    "# -- Spoilers below!"
   ]
  },
  {
   "cell_type": "markdown",
   "metadata": {},
   "source": [
    "The solution follows this paragraph, but you probably expected something easier! Kleene, who was a student of Alonzo Church, discovered for the first time how to write a predecessor on lambda calculus while at the dentist. This discovery made Church start thinking that every intuitively computable function could be computed using lambda calculus, that is, that the notions of lambda-computable function and intuitively computable function would coincide."
   ]
  },
  {
   "cell_type": "code",
   "execution_count": 56,
   "metadata": {},
   "outputs": [
    {
     "name": "stdout",
     "output_type": "stream",
     "text": [
      "\u001b[?1l\u001b[22;34m\u001b[m\u001b[?1h\u001b[1;94m"
     ]
    }
   ],
   "source": [
    "pred = \\n.\\f.\\x.n (\\g.(\\h.h (g f))) (\\u.x) (\\u.u)"
   ]
  },
  {
   "cell_type": "code",
   "execution_count": 59,
   "metadata": {},
   "outputs": [
    {
     "name": "stdout",
     "output_type": "stream",
     "text": [
      "\u001b[?1l\u001b[22;34mλa.λb.(a (a (a b)))\u001b[32m ⇒ 3\u001b[m\r\n",
      "\u001b[m\u001b[?1h\u001b[1;94m\u001b[?1l\u001b[22;34mλa.λb.b\u001b[32m ⇒ 0, false\u001b[m\r\n",
      "\u001b[m\u001b[?1h\u001b[1;94m\u001b[?1l\u001b[22;34mλa.λb.b\u001b[32m ⇒ 0, false\u001b[m\r\n",
      "\u001b[m\u001b[?1h\u001b[1;94m"
     ]
    }
   ],
   "source": [
    "pred 4\n",
    "pred 1\n",
    "pred 0"
   ]
  },
  {
   "cell_type": "markdown",
   "metadata": {},
   "source": [
    "But why does something like this even work? We will develop an intuition on this kind of constructions later."
   ]
  },
  {
   "cell_type": "markdown",
   "metadata": {},
   "source": [
    "**Exercise:** Use the predecessor function to define the `minus` function. It should return the difference between two numbers. If the first number is smaller than the second, it simply should return zero."
   ]
  },
  {
   "cell_type": "code",
   "execution_count": 60,
   "metadata": {},
   "outputs": [
    {
     "name": "stdout",
     "output_type": "stream",
     "text": [
      "\u001b[?1l\u001b[22;34m\u001b[m\u001b[?1h\u001b[1;94m"
     ]
    }
   ],
   "source": [
    "# -- Your solution goes here"
   ]
  },
  {
   "cell_type": "markdown",
   "metadata": {},
   "source": [
    "### 3.3. Predicates on natural numbers (WIP)"
   ]
  },
  {
   "cell_type": "markdown",
   "metadata": {},
   "source": [
    "## 4. Combinatory logic (WIP)"
   ]
  },
  {
   "cell_type": "markdown",
   "metadata": {},
   "source": [
    "## 5. Data structures (WIP)"
   ]
  },
  {
   "cell_type": "markdown",
   "metadata": {},
   "source": [
    "## 6. Recursion"
   ]
  },
  {
   "cell_type": "code",
   "execution_count": null,
   "metadata": {
    "collapsed": true
   },
   "outputs": [],
   "source": []
  }
 ],
 "metadata": {
  "kernelspec": {
   "display_name": "IMikrokosmos",
   "language": "",
   "name": "imikrokosmos"
  },
  "language_info": {
   "codemirror_mode": "mikrokosmos",
   "file_extension": ".mkr",
   "mimetype": "text/plain",
   "name": "Mikrokosmos"
  }
 },
 "nbformat": 4,
 "nbformat_minor": 2
}
