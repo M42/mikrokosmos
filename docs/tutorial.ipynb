{
 "cells": [
  {
   "cell_type": "markdown",
   "metadata": {},
   "source": [
    "# Mikrokosmos: a lambda calculus tutorial"
   ]
  },
  {
   "cell_type": "markdown",
   "metadata": {},
   "source": [
    "## 1. Basic lambda calculus\n",
    "\n",
    "The lambda calculus was introduced in the 1930s by Alonzo Church as a formal system for expressing the notion of computability. It is Turing-complete, that is, like Turing machines, it has the property that every computable function can be written on lambda-calculus.\n",
    "\n",
    "It syntax is very simple; a expression can be:\n",
    "\n",
    "  - A lambda abstraction $\\lambda x. -$, which can be interpreted as a function \n",
    "    taking $x$ as an argument and returning what is written under $-$, which can\n",
    "    depend on $x$.\n",
    "  - A variable, which could have appeared firstly on the lambda abstraction.\n",
    "  - An application of two expressions $(\\lambda x. M)N$ which applies the function\n",
    "    $(\\lambda x. M)$ over the argument $N$. All ocurrences of $x$ on $M$ will be\n",
    "    substituted by $N$. This is what is called $\\beta$-reduction.\n",
    "\n",
    "This first example defines a very simple lambda term, the identity function $\\lambda x. x$, which is a function that takes an argument $x$ and returns it unchanged. And we are going to apply the function to itself. Keep in mind during this tutorial that it is perfectly possible to apply functions to functions; in fact, this is one of the core ideas of lambda calculus."
   ]
  },
  {
   "cell_type": "code",
   "execution_count": 1,
   "metadata": {},
   "outputs": [
    {
     "name": "stdout",
     "output_type": "stream",
     "text": [
      "\u001b[?1l\u001b[22;34m\u001b[m\u001b[?1h\u001b[1;94m"
     ]
    }
   ],
   "source": [
    "id = \\x.x"
   ]
  },
  {
   "cell_type": "code",
   "execution_count": 2,
   "metadata": {},
   "outputs": [
    {
     "name": "stdout",
     "output_type": "stream",
     "text": [
      "\u001b[?1l\u001b[22;34mλa.a\u001b[32m ⇒ id\u001b[m\u001b[m\r\n",
      "\u001b[m\u001b[?1h\u001b[1;94m"
     ]
    }
   ],
   "source": [
    "id id"
   ]
  },
  {
   "cell_type": "markdown",
   "metadata": {},
   "source": [
    "Function application is left distributive, that is, `f g h` must be read as `(f(g))(h)` instead of `f(g(h))`. This makes it easier to write multiple argument functions such as the **constant** function, which takes two arguments and returns the first one."
   ]
  },
  {
   "cell_type": "code",
   "execution_count": 3,
   "metadata": {},
   "outputs": [
    {
     "name": "stdout",
     "output_type": "stream",
     "text": [
      "\u001b[?1l\u001b[22;34m\u001b[m\u001b[?1h\u001b[1;94m"
     ]
    }
   ],
   "source": [
    "const = \\x.\\y.x"
   ]
  },
  {
   "cell_type": "code",
   "execution_count": 4,
   "metadata": {},
   "outputs": [
    {
     "name": "stdout",
     "output_type": "stream",
     "text": [
      "\u001b[?1l\u001b[22;34mλa.a\u001b[32m ⇒ id\u001b[m\u001b[m\r\n",
      "\u001b[m\u001b[?1h\u001b[1;94m\u001b[?1l\u001b[22;34mλa.a\u001b[32m ⇒ id\u001b[m\u001b[m\r\n",
      "\u001b[m\u001b[?1h\u001b[1;94m"
     ]
    }
   ],
   "source": [
    "const id id\n",
    "const id const"
   ]
  },
  {
   "cell_type": "markdown",
   "metadata": {},
   "source": [
    "A function with two arguments can be also interpreted as a function taking only one argument and returning again a function taking the other one. For example, the `(const id)` function is a function with only one argument that discards it and always returns `id`."
   ]
  },
  {
   "cell_type": "code",
   "execution_count": 5,
   "metadata": {},
   "outputs": [
    {
     "name": "stdout",
     "output_type": "stream",
     "text": [
      "\u001b[?1l\u001b[22;34m\u001b[m\u001b[?1h\u001b[1;94m\u001b[?1l\u001b[22;34m\u001b[m\u001b[?1h\u001b[1;94m"
     ]
    }
   ],
   "source": [
    "# Comments can be inserted starting a line with the # character\n",
    "alwaysid = const id"
   ]
  },
  {
   "cell_type": "code",
   "execution_count": 6,
   "metadata": {},
   "outputs": [
    {
     "name": "stdout",
     "output_type": "stream",
     "text": [
      "\u001b[?1l\u001b[22;34mλa.a\u001b[32m ⇒ id\u001b[m\u001b[m\r\n",
      "\u001b[m\u001b[?1h\u001b[1;94m\u001b[?1l\u001b[22;34mλa.a\u001b[32m ⇒ id\u001b[m\u001b[m\r\n",
      "\u001b[m\u001b[?1h\u001b[1;94m\u001b[?1l\u001b[22;34mλa.a\u001b[32m ⇒ id\u001b[m\u001b[m\r\n",
      "\u001b[m\u001b[?1h\u001b[1;94m"
     ]
    }
   ],
   "source": [
    "alwaysid id\n",
    "alwaysid const\n",
    "alwaysid alwaysid"
   ]
  },
  {
   "cell_type": "markdown",
   "metadata": {},
   "source": [
    "A more useful example of function taking functions as arguments is the function **composition**, which takes two functions and returns a new one created by applying the two sequentially. This corresponds to the usual mathematical function composition $f \\circ g$."
   ]
  },
  {
   "cell_type": "code",
   "execution_count": 7,
   "metadata": {},
   "outputs": [
    {
     "name": "stdout",
     "output_type": "stream",
     "text": [
      "\u001b[?1l\u001b[22;34m\u001b[m\u001b[?1h\u001b[1;94m"
     ]
    }
   ],
   "source": [
    "compose = \\f.\\g.\\x.f (g x)"
   ]
  },
  {
   "cell_type": "code",
   "execution_count": 8,
   "metadata": {},
   "outputs": [
    {
     "name": "stdout",
     "output_type": "stream",
     "text": [
      "\u001b[?1l\u001b[22;34m\u001b[m\u001b[?1h\u001b[1;94m\u001b[?1l\u001b[22;34mλa.a\u001b[32m ⇒ id\u001b[m\u001b[m\r\n",
      "\u001b[m\u001b[?1h\u001b[1;94m"
     ]
    }
   ],
   "source": [
    "# The identity composed with the identity is again the identity.\n",
    "compose id id"
   ]
  },
  {
   "cell_type": "markdown",
   "metadata": {},
   "source": [
    "**Exercise:** Think what should be the result of the following expressions and then check it with the interpreter.\n",
    "\n",
    "  - `compose const id`\n",
    "  - `compose id const`\n",
    "  - `compose const const`"
   ]
  },
  {
   "cell_type": "code",
   "execution_count": 9,
   "metadata": {},
   "outputs": [
    {
     "name": "stdout",
     "output_type": "stream",
     "text": [
      "\u001b[?1l\u001b[22;34m\u001b[m\u001b[?1h\u001b[1;94m"
     ]
    }
   ],
   "source": [
    "# -- Your solution goes here"
   ]
  },
  {
   "cell_type": "markdown",
   "metadata": {},
   "source": [
    "## 2. Logic\n",
    "\n",
    "### 2.1. The booleans\n",
    "\n",
    "Boolean logic can be encoded in lambda calculus. Our intuition on what means to be a truth value is that it can distinghish between two values (**true** or **false**) or two branches on a program (if ... else ...).\n",
    "\n",
    "We are going to use this intuition to write an encoding of boolean values based on their ability to choose between two branches. Maybe surprisingly, this encoding will be also useful to write the usual boolean logic gates."
   ]
  },
  {
   "cell_type": "code",
   "execution_count": 10,
   "metadata": {},
   "outputs": [
    {
     "name": "stdout",
     "output_type": "stream",
     "text": [
      "\u001b[?1l\u001b[22;34m\u001b[m\u001b[?1h\u001b[1;94m\u001b[?1l\u001b[22;34m\u001b[m\u001b[?1h\u001b[1;94m\u001b[?1l\u001b[22;34m\u001b[m\u001b[?1h\u001b[1;94m"
     ]
    }
   ],
   "source": [
    "# Church encoding of boolean truth values\n",
    "true  = \\a.\\b.a\n",
    "false = \\a.\\b.b"
   ]
  },
  {
   "cell_type": "markdown",
   "metadata": {},
   "source": [
    "Here, a truth value is a function on two elements that chooses one of them.\n",
    "\n",
    " - $\\mathtt{true}\\ a\\ b  = a$\n",
    " - $\\mathtt{false}\\ a\\ b = b$\n",
    "\n",
    "This is called the *Church encoding* of the booleans, as it was firstly used by Alonzo Church. This idea of defining a type based not on its content but on how it can be used will appear later, when we define more complex data structures. "
   ]
  },
  {
   "cell_type": "code",
   "execution_count": 11,
   "metadata": {},
   "outputs": [
    {
     "name": "stdout",
     "output_type": "stream",
     "text": [
      "\u001b[?1l\u001b[22;34m\u001b[m\u001b[?1h\u001b[1;94m\u001b[?1l\u001b[22;34mλa.a\u001b[32m ⇒ id\u001b[m\u001b[m\r\n",
      "\u001b[m\u001b[?1h\u001b[1;94m\u001b[?1l\u001b[22;34mλa.λb.a\u001b[32m ⇒ true, const\u001b[m\u001b[m\r\n",
      "\u001b[m\u001b[?1h\u001b[1;94m\u001b[?1l\u001b[22;34mλa.λb.a\u001b[32m ⇒ true, const\u001b[m\u001b[m\r\n",
      "\u001b[m\u001b[?1h\u001b[1;94m\u001b[?1l\u001b[22;34mλa.λb.b\u001b[32m ⇒ false, alwaysid\u001b[m\u001b[m\r\n",
      "\u001b[m\u001b[?1h\u001b[1;94m"
     ]
    }
   ],
   "source": [
    "# Examples\n",
    "true id const\n",
    "false id const\n",
    "true true false\n",
    "false true false"
   ]
  },
  {
   "cell_type": "markdown",
   "metadata": {},
   "source": [
    "In particular, `true` is exactly the same lambda term as `const`."
   ]
  },
  {
   "cell_type": "markdown",
   "metadata": {},
   "source": [
    "### 2.2. If-else "
   ]
  },
  {
   "cell_type": "markdown",
   "metadata": {},
   "source": [
    "The advantage of this way of encoding the boolean values is that they can be easily used in combination with other lambda terms. In particular, the way to encode an if-else is almost trivial: it is already encoded on the lambda terms!"
   ]
  },
  {
   "cell_type": "code",
   "execution_count": 12,
   "metadata": {},
   "outputs": [
    {
     "name": "stdout",
     "output_type": "stream",
     "text": [
      "\u001b[?1l\u001b[22;34m\u001b[m\u001b[?1h\u001b[1;94m\u001b[?1l\u001b[22;34m\u001b[m\u001b[?1h\u001b[1;94m\u001b[?1l\u001b[22;34mλa.a\u001b[32m ⇒ id\u001b[m\u001b[m\r\n",
      "\u001b[m\u001b[?1h\u001b[1;94m\u001b[?1l\u001b[22;34mλa.λb.a\u001b[32m ⇒ true, const\u001b[m\u001b[m\r\n",
      "\u001b[m\u001b[?1h\u001b[1;94m"
     ]
    }
   ],
   "source": [
    "# If true, then the id function will be returned\n",
    "# if false, then the const function will be returned \n",
    "(\\b. b id const) true\n",
    "(\\b. b id const) false"
   ]
  },
  {
   "cell_type": "markdown",
   "metadata": {},
   "source": [
    "If we really want to write an `if-else` function, it will be, quite literally, a trivial one"
   ]
  },
  {
   "cell_type": "code",
   "execution_count": 13,
   "metadata": {},
   "outputs": [
    {
     "name": "stdout",
     "output_type": "stream",
     "text": [
      "\u001b[?1l\u001b[22;34m\u001b[m\u001b[?1h\u001b[1;94m\u001b[?1l\u001b[22;34mλa.a\u001b[32m ⇒ ifelse, id\u001b[m\u001b[m\r\n",
      "\u001b[m\u001b[?1h\u001b[1;94m\u001b[?1l\u001b[22;34mλa.λb.a\u001b[32m ⇒ true, const\u001b[m\u001b[m\r\n",
      "\u001b[m\u001b[?1h\u001b[1;94m"
     ]
    }
   ],
   "source": [
    "ifelse = \\b.b\n",
    "(ifelse true) id const\n",
    "(ifelse false) id const"
   ]
  },
  {
   "cell_type": "markdown",
   "metadata": {},
   "source": [
    "### 2.3. Logic gates"
   ]
  },
  {
   "cell_type": "markdown",
   "metadata": {},
   "source": [
    "Usual operations on booleans can be defined too on this encoding and they will be surprisingly easy if we think of booleans as functions choosing from two terms."
   ]
  },
  {
   "cell_type": "code",
   "execution_count": 14,
   "metadata": {},
   "outputs": [
    {
     "name": "stdout",
     "output_type": "stream",
     "text": [
      "\u001b[?1l\u001b[22;34m\u001b[m\u001b[?1h\u001b[1;94m\u001b[?1l\u001b[22;34m\u001b[m\u001b[?1h\u001b[1;94m\u001b[?1l\u001b[22;34m\u001b[m\u001b[?1h\u001b[1;94m"
     ]
    }
   ],
   "source": [
    "# The and gate takes two booleans and returns a true if and only if \n",
    "# the two given booleans are true. \n",
    "and = \\p.\\q.p q p"
   ]
  },
  {
   "cell_type": "code",
   "execution_count": 15,
   "metadata": {},
   "outputs": [
    {
     "name": "stdout",
     "output_type": "stream",
     "text": [
      "\u001b[?1l\u001b[22;34m\u001b[m\u001b[?1h\u001b[1;94m\u001b[?1l\u001b[22;34mλa.λb.a\u001b[32m ⇒ true, const\u001b[m\u001b[m\r\n",
      "\u001b[m\u001b[?1h\u001b[1;94m\u001b[?1l\u001b[22;34mλa.λb.b\u001b[32m ⇒ false, alwaysid\u001b[m\u001b[m\r\n",
      "\u001b[m\u001b[?1h\u001b[1;94m\u001b[?1l\u001b[22;34mλa.λb.b\u001b[32m ⇒ false, alwaysid\u001b[m\u001b[m\r\n",
      "\u001b[m\u001b[?1h\u001b[1;94m\u001b[?1l\u001b[22;34mλa.λb.b\u001b[32m ⇒ false, alwaysid\u001b[m\u001b[m\r\n",
      "\u001b[m\u001b[?1h\u001b[1;94m"
     ]
    }
   ],
   "source": [
    "# Checking the truth table for the and gate\n",
    "and true true\n",
    "and true false\n",
    "and false true\n",
    "and false false"
   ]
  },
  {
   "cell_type": "markdown",
   "metadata": {},
   "source": [
    "**Exercise:** Think why this definition of the `and` gate works.\n",
    "\n",
    "*Hint: think what happens when the first argument is a `true`. What happens if it is a `false`?*"
   ]
  },
  {
   "cell_type": "markdown",
   "metadata": {},
   "source": [
    "The `or` gate can be defined in a similar way."
   ]
  },
  {
   "cell_type": "code",
   "execution_count": 16,
   "metadata": {},
   "outputs": [
    {
     "name": "stdout",
     "output_type": "stream",
     "text": [
      "\u001b[?1l\u001b[22;34m\u001b[m\u001b[?1h\u001b[1;94m\u001b[?1l\u001b[22;34m\u001b[m\u001b[?1h\u001b[1;94m\u001b[?1l\u001b[22;34m\u001b[m\u001b[?1h\u001b[1;94m"
     ]
    }
   ],
   "source": [
    "# The or gate takes two booleans and returns a true if and only if\n",
    "# any of them (or both) are true.\n",
    "or = \\p.\\q.p p q"
   ]
  },
  {
   "cell_type": "code",
   "execution_count": 17,
   "metadata": {},
   "outputs": [
    {
     "name": "stdout",
     "output_type": "stream",
     "text": [
      "\u001b[?1l\u001b[22;34m\u001b[m\u001b[?1h\u001b[1;94m\u001b[?1l\u001b[22;34mλa.λb.a\u001b[32m ⇒ true, const\u001b[m\u001b[m\r\n",
      "\u001b[m\u001b[?1h\u001b[1;94m\u001b[?1l\u001b[22;34mλa.λb.a\u001b[32m ⇒ true, const\u001b[m\u001b[m\r\n",
      "\u001b[m\u001b[?1h\u001b[1;94m\u001b[?1l\u001b[22;34mλa.λb.a\u001b[32m ⇒ true, const\u001b[m\u001b[m\r\n",
      "\u001b[m\u001b[?1h\u001b[1;94m\u001b[?1l\u001b[22;34mλa.λb.b\u001b[32m ⇒ false, alwaysid\u001b[m\u001b[m\r\n",
      "\u001b[m\u001b[?1h\u001b[1;94m"
     ]
    }
   ],
   "source": [
    "# Checking the truth table for the and gate\n",
    "or true true\n",
    "or true false\n",
    "or false true\n",
    "or false false"
   ]
  },
  {
   "cell_type": "markdown",
   "metadata": {},
   "source": [
    "And finally, the negation operator is only a way of interchanging the two truth values"
   ]
  },
  {
   "cell_type": "code",
   "execution_count": 18,
   "metadata": {},
   "outputs": [
    {
     "name": "stdout",
     "output_type": "stream",
     "text": [
      "\u001b[?1l\u001b[22;34m\u001b[m\u001b[?1h\u001b[1;94m"
     ]
    }
   ],
   "source": [
    "not = \\b.b false true"
   ]
  },
  {
   "cell_type": "code",
   "execution_count": 19,
   "metadata": {},
   "outputs": [
    {
     "name": "stdout",
     "output_type": "stream",
     "text": [
      "\u001b[?1l\u001b[22;34mλa.λb.b\u001b[32m ⇒ false, alwaysid\u001b[m\u001b[m\r\n",
      "\u001b[m\u001b[?1h\u001b[1;94m\u001b[?1l\u001b[22;34mλa.λb.a\u001b[32m ⇒ true, const\u001b[m\u001b[m\r\n",
      "\u001b[m\u001b[?1h\u001b[1;94m\u001b[?1l\u001b[22;34mλa.λb.b\u001b[32m ⇒ false, alwaysid\u001b[m\u001b[m\r\n",
      "\u001b[m\u001b[?1h\u001b[1;94m"
     ]
    }
   ],
   "source": [
    "not true\n",
    "not false\n",
    "not (and true true)"
   ]
  },
  {
   "cell_type": "markdown",
   "metadata": {},
   "source": [
    "The boolean logic implication operator works also as a boolean gate, it can be defined as\n",
    "\n",
    "$$(a \\to b) \\equiv (\\neg a) \\vee b,$$\n",
    "\n",
    "that is, the implication is true if both are true or if the premise is false."
   ]
  },
  {
   "cell_type": "code",
   "execution_count": 20,
   "metadata": {},
   "outputs": [
    {
     "name": "stdout",
     "output_type": "stream",
     "text": [
      "\u001b[?1l\u001b[22;34m\u001b[m\u001b[?1h\u001b[1;94m"
     ]
    }
   ],
   "source": [
    "implies = \\a.\\b.or (not a) b"
   ]
  },
  {
   "cell_type": "markdown",
   "metadata": {},
   "source": [
    "**Exercise:** Compute the logic table for the implication using the previous definition."
   ]
  },
  {
   "cell_type": "code",
   "execution_count": 21,
   "metadata": {},
   "outputs": [
    {
     "name": "stdout",
     "output_type": "stream",
     "text": [
      "\u001b[?1l\u001b[22;34m\u001b[m\u001b[?1h\u001b[1;94m"
     ]
    }
   ],
   "source": [
    "# -- Your solution goes here"
   ]
  },
  {
   "cell_type": "markdown",
   "metadata": {},
   "source": [
    "**Exercise:** Compute the following logic clauses using lambda calculus\n",
    " \n",
    " - True or false implies false.\n",
    " - False implies that: false implies false.\n",
    " - The negation of false and the negation of true both imply true."
   ]
  },
  {
   "cell_type": "code",
   "execution_count": 22,
   "metadata": {},
   "outputs": [
    {
     "name": "stdout",
     "output_type": "stream",
     "text": [
      "\u001b[?1l\u001b[22;34m\u001b[m\u001b[?1h\u001b[1;94m"
     ]
    }
   ],
   "source": [
    "# -- Your solution goes here"
   ]
  },
  {
   "cell_type": "markdown",
   "metadata": {},
   "source": [
    "**Exercise:** Define the `xor` gate as a lambda term. The `xor` of two boolean values must return a true if and only if *exactly one* of them are true. Check also its logic table.\n",
    "\n",
    "*Hint: you may want to use the already defined `not`.*"
   ]
  },
  {
   "cell_type": "code",
   "execution_count": 23,
   "metadata": {},
   "outputs": [
    {
     "name": "stdout",
     "output_type": "stream",
     "text": [
      "\u001b[?1l\u001b[22;34m\u001b[m\u001b[?1h\u001b[1;94m"
     ]
    }
   ],
   "source": [
    "# -- Your solution goes here"
   ]
  },
  {
   "cell_type": "markdown",
   "metadata": {},
   "source": [
    "## 3. Church numerals and arithmetic"
   ]
  },
  {
   "cell_type": "markdown",
   "metadata": {},
   "source": [
    "### 3.1. Peano and the natural numbers\n",
    "\n",
    "In the 19th century, Giuseppe Peano gave a definition of the natural numbers and an axiomatic theory of them based on only two contructors\n",
    "\n",
    " - The zero is a natural number, written as Z.\n",
    " - The successor of a natural number is a natural number, written as S.\n",
    " \n",
    "In those terms, the usual natural numbers will be \n",
    "\n",
    "$$ Z,\\ SZ,\\ S(SZ),\\ S(S(SZ)),\\ \\dots $$\n",
    " \n",
    "The question is now how can we encode them on lambda calculus. We do not have the ability to write the two constructors on lambda calculus, so we will make the natural numbers depend on them. This is again the same idea we used when we tried to encode booleans, we do not care about the content, but about how can we use them later."
   ]
  },
  {
   "cell_type": "code",
   "execution_count": 24,
   "metadata": {},
   "outputs": [
    {
     "name": "stdout",
     "output_type": "stream",
     "text": [
      "\u001b[?1l\u001b[22;34m\u001b[m\u001b[?1h\u001b[1;94m\u001b[?1l\u001b[22;34m\u001b[m\u001b[?1h\u001b[1;94m\u001b[?1l\u001b[22;34m\u001b[m\u001b[?1h\u001b[1;94m"
     ]
    }
   ],
   "source": [
    "# Definition of the natural numbers\n",
    "0 = \\s.\\z.z\n",
    "succ = \\n.\\s.\\z.s (n s z)"
   ]
  },
  {
   "cell_type": "markdown",
   "metadata": {},
   "source": [
    "This definition of `0` is trivial: given a successor function and a zero, return the zero. The successor function seems more complex, but it uses the same underlying idea: given a number, a successor and a zero, apply the successor to the interpretation of that number using the same successor and zero."
   ]
  },
  {
   "cell_type": "code",
   "execution_count": 25,
   "metadata": {},
   "outputs": [
    {
     "name": "stdout",
     "output_type": "stream",
     "text": [
      "\u001b[?1l\u001b[22;34m\u001b[m\u001b[?1h\u001b[1;94m\u001b[?1l\u001b[22;34m\u001b[m\u001b[?1h\u001b[1;94m\u001b[?1l\u001b[22;34m\u001b[m\u001b[?1h\u001b[1;94m\u001b[?1l\u001b[22;34m\u001b[m\u001b[?1h\u001b[1;94m\u001b[?1l\u001b[22;34m\u001b[m\u001b[?1h\u001b[1;94m\u001b[?1l\u001b[22;34m\u001b[m\u001b[?1h\u001b[1;94m\u001b[?1l\u001b[22;34m\u001b[m\u001b[?1h\u001b[1;94m\u001b[?1l\u001b[22;34m\u001b[m\u001b[?1h\u001b[1;94m\u001b[?1l\u001b[22;34m\u001b[m\u001b[?1h\u001b[1;94m\u001b[?1l\u001b[22;34m\u001b[m\u001b[?1h\u001b[1;94m\u001b[?1l\u001b[22;34m\u001b[m\u001b[?1h\u001b[1;94m\u001b[?1l\u001b[22;34m\u001b[m\u001b[?1h\u001b[1;94m\u001b[?1l\u001b[22;34m\u001b[m\u001b[?1h\u001b[1;94m\u001b[?1l\u001b[22;34m\u001b[m\u001b[?1h\u001b[1;94m\u001b[?1l\u001b[22;34m\u001b[m\u001b[?1h\u001b[1;94m\u001b[?1l\u001b[22;34m\u001b[m\u001b[?1h\u001b[1;94m\u001b[?1l\u001b[22;34m\u001b[m\u001b[?1h\u001b[1;94m\u001b[?1l\u001b[22;34m\u001b[m\u001b[?1h\u001b[1;94m\u001b[?1l\u001b[22;34m\u001b[m\u001b[?1h\u001b[1;94m\u001b[?1l\u001b[22;34m\u001b[m\u001b[?1h\u001b[1;94m\u001b[?1l\u001b[22;34m\u001b[m\u001b[?1h\u001b[1;94m"
     ]
    }
   ],
   "source": [
    "# Names of the first twenty natural numbers\n",
    "1  = succ 0\n",
    "2  = succ 1\n",
    "3  = succ 2\n",
    "4  = succ 3\n",
    "5  = succ 4\n",
    "6  = succ 5\n",
    "7  = succ 6\n",
    "8  = succ 7\n",
    "9  = succ 8\n",
    "10 = succ 9\n",
    "11 = succ 10\n",
    "12 = succ 11\n",
    "13 = succ 12\n",
    "14 = succ 13\n",
    "15 = succ 14\n",
    "16 = succ 15\n",
    "17 = succ 16\n",
    "18 = succ 17\n",
    "19 = succ 18\n",
    "20 = succ 19"
   ]
  },
  {
   "cell_type": "markdown",
   "metadata": {},
   "source": [
    "Under this interpretation, a number `n` is really a function taking a function `a` as an argument and applying it `n` times over the argument `b`."
   ]
  },
  {
   "cell_type": "code",
   "execution_count": 26,
   "metadata": {},
   "outputs": [
    {
     "name": "stdout",
     "output_type": "stream",
     "text": [
      "\u001b[?1l\u001b[22;34mλa.λb.(a (a (a (a (a b)))))\u001b[32m ⇒ 5\u001b[m\u001b[m\r\n",
      "\u001b[m\u001b[?1h\u001b[1;94m"
     ]
    }
   ],
   "source": [
    "5"
   ]
  },
  {
   "cell_type": "code",
   "execution_count": 27,
   "metadata": {},
   "outputs": [
    {
     "name": "stdout",
     "output_type": "stream",
     "text": [
      "\u001b[?1l\u001b[22;34mλa.λb.b\u001b[32m ⇒ 0, false, alwaysid\u001b[m\u001b[m\r\n",
      "\u001b[m\u001b[?1h\u001b[1;94m\u001b[?1l\u001b[22;34mλa.λb.b\u001b[32m ⇒ 0, false, alwaysid\u001b[m\u001b[m\r\n",
      "\u001b[m\u001b[?1h\u001b[1;94m"
     ]
    }
   ],
   "source": [
    "5 not true\n",
    "4 not false"
   ]
  },
  {
   "cell_type": "markdown",
   "metadata": {},
   "source": [
    "**Exercise:** Define a function that takes a natural number and returns true if and only if the number is even.\n",
    "\n",
    "*Hint: you may want to interpret the given number as a function.*"
   ]
  },
  {
   "cell_type": "code",
   "execution_count": 28,
   "metadata": {},
   "outputs": [
    {
     "name": "stdout",
     "output_type": "stream",
     "text": [
      "\u001b[?1l\u001b[22;34m\u001b[m\u001b[?1h\u001b[1;94m"
     ]
    }
   ],
   "source": [
    "# -- Your solution goes here"
   ]
  },
  {
   "cell_type": "markdown",
   "metadata": {},
   "source": [
    "### 3.2. Addition and multiplication\n",
    "\n",
    "The encoding of the addition and multiplication of natural numbers will profit from the interpretation of numbers as functions. This is, in fact, the only way we can use naturals; but we will quickly see that this is an strenght instead of a weakness of our encoding. We are really encoding naturals as their induction principle: we can define a function by defining a zero and a successor.\n",
    "\n",
    "The `double` function will only change the successor for the composition of the successor function with itself."
   ]
  },
  {
   "cell_type": "code",
   "execution_count": 29,
   "metadata": {},
   "outputs": [
    {
     "name": "stdout",
     "output_type": "stream",
     "text": [
      "\u001b[?1l\u001b[22;34m\u001b[m\u001b[?1h\u001b[1;94m"
     ]
    }
   ],
   "source": [
    "double = \\n.\\s.\\z.n (compose s s) z"
   ]
  },
  {
   "cell_type": "code",
   "execution_count": 30,
   "metadata": {},
   "outputs": [
    {
     "name": "stdout",
     "output_type": "stream",
     "text": [
      "\u001b[?1l\u001b[22;34mλa.λb.b\u001b[32m ⇒ 0, false, alwaysid\u001b[m\u001b[m\r\n",
      "\u001b[m\u001b[?1h\u001b[1;94m\u001b[?1l\u001b[22;34mλa.λb.(a (a (a (a (a (a b))))))\u001b[32m ⇒ 6\u001b[m\u001b[m\r\n",
      "\u001b[m\u001b[?1h\u001b[1;94m\u001b[?1l\u001b[22;34mλa.λb.(a (a (a (a (a (a (a (a b))))))))\u001b[32m ⇒ 8\u001b[m\u001b[m\r\n",
      "\u001b[m\u001b[?1h\u001b[1;94m"
     ]
    }
   ],
   "source": [
    "double 0\n",
    "double 3\n",
    "double 4"
   ]
  },
  {
   "cell_type": "markdown",
   "metadata": {},
   "source": [
    "**Exercise:** Define a `triple` function."
   ]
  },
  {
   "cell_type": "code",
   "execution_count": 31,
   "metadata": {},
   "outputs": [
    {
     "name": "stdout",
     "output_type": "stream",
     "text": [
      "\u001b[?1l\u001b[22;34m\u001b[m\u001b[?1h\u001b[1;94m"
     ]
    }
   ],
   "source": [
    "# -- Your solution goes here"
   ]
  },
  {
   "cell_type": "markdown",
   "metadata": {},
   "source": [
    "We are going now to define **addition** using this same principle. It takes a successor and a zero, computes the first number as `(n s z)` and then uses it as a zero on the interpretation of the second one."
   ]
  },
  {
   "cell_type": "code",
   "execution_count": 32,
   "metadata": {},
   "outputs": [
    {
     "name": "stdout",
     "output_type": "stream",
     "text": [
      "\u001b[?1l\u001b[22;34m\u001b[m\u001b[?1h\u001b[1;94m"
     ]
    }
   ],
   "source": [
    "plus = \\m.\\n.\\s.\\z.m s (n s z)"
   ]
  },
  {
   "cell_type": "code",
   "execution_count": 33,
   "metadata": {},
   "outputs": [
    {
     "name": "stdout",
     "output_type": "stream",
     "text": [
      "\u001b[?1l\u001b[22;34mλa.λb.(a (a (a b)))\u001b[32m ⇒ 3\u001b[m\u001b[m\r\n",
      "\u001b[m\u001b[?1h\u001b[1;94m\u001b[?1l\u001b[22;34mλa.λb.(a (a (a (a (a (a (a b)))))))\u001b[32m ⇒ 7\u001b[m\u001b[m\r\n",
      "\u001b[m\u001b[?1h\u001b[1;94m\u001b[?1l\u001b[22;34mλa.λb.(a (a (a (a (a b)))))\u001b[32m ⇒ 5\u001b[m\u001b[m\r\n",
      "\u001b[m\u001b[?1h\u001b[1;94m"
     ]
    }
   ],
   "source": [
    "plus 2 1\n",
    "plus 3 4\n",
    "plus 0 5"
   ]
  },
  {
   "cell_type": "markdown",
   "metadata": {},
   "source": [
    "**Exercise:** How would you define multiplication? Keep in mind that you can use a number as a function. Keep also in mind the previous exercises on `double` and `triple`.\n",
    "\n",
    "*Spoilers below!*"
   ]
  },
  {
   "cell_type": "code",
   "execution_count": 34,
   "metadata": {},
   "outputs": [
    {
     "name": "stdout",
     "output_type": "stream",
     "text": [
      "\u001b[?1l\u001b[22;34m\u001b[m\u001b[?1h\u001b[1;94m\u001b[?1l\u001b[22;34m\u001b[m\u001b[?1h\u001b[1;94m"
     ]
    }
   ],
   "source": [
    "# -- Your solution goes here\n",
    "# mymult ="
   ]
  },
  {
   "cell_type": "markdown",
   "metadata": {},
   "source": [
    "There many possible ways of defining multiplication. Some of them can use the repeated application of `plus` to a number; but we are going to define **multiplication** in a way that is similar to how we defined `double` previously. We are going to interpret the successor as the n-fold application of successor."
   ]
  },
  {
   "cell_type": "code",
   "execution_count": 35,
   "metadata": {},
   "outputs": [
    {
     "name": "stdout",
     "output_type": "stream",
     "text": [
      "\u001b[?1l\u001b[22;34m\u001b[m\u001b[?1h\u001b[1;94m"
     ]
    }
   ],
   "source": [
    "mult = \\m.\\n.\\s.\\z.m (n s) z"
   ]
  },
  {
   "cell_type": "code",
   "execution_count": 36,
   "metadata": {},
   "outputs": [
    {
     "name": "stdout",
     "output_type": "stream",
     "text": [
      "\u001b[?1l\u001b[22;34mλa.λb.b\u001b[32m ⇒ 0, false, alwaysid\u001b[m\u001b[m\r\n",
      "\u001b[m\u001b[?1h\u001b[1;94m\u001b[?1l\u001b[22;34mλa.λb.(a (a (a (a (a b)))))\u001b[32m ⇒ 5\u001b[m\u001b[m\r\n",
      "\u001b[m\u001b[?1h\u001b[1;94m\u001b[?1l\u001b[22;34mλa.λb.(a (a (a (a (a (a (a (a (a (a (a (a b))))))))))))\u001b[32m ⇒ 12\u001b[m\u001b[m\r\n",
      "\u001b[m\u001b[?1h\u001b[1;94m"
     ]
    }
   ],
   "source": [
    "mult 0 3\n",
    "mult 1 5\n",
    "mult 3 4"
   ]
  },
  {
   "cell_type": "markdown",
   "metadata": {},
   "source": [
    "### 3.3. The predecessor function"
   ]
  },
  {
   "cell_type": "markdown",
   "metadata": {},
   "source": [
    "But, how to compute the predecessor of a number? We have not encoded negative numbers, so it could be a function returning zero whenever it tries to get the predecessor of zero. It is an insightful exercise to try to define it by yourself, but please, do not get too obsessed with it. The solution is certainly not easy. "
   ]
  },
  {
   "cell_type": "code",
   "execution_count": 37,
   "metadata": {},
   "outputs": [
    {
     "name": "stdout",
     "output_type": "stream",
     "text": [
      "\u001b[?1l\u001b[22;34m\u001b[m\u001b[?1h\u001b[1;94m\u001b[?1l\u001b[22;34m\u001b[m\u001b[?1h\u001b[1;94m"
     ]
    }
   ],
   "source": [
    "# -- You can try here\n",
    "# -- Spoilers below!"
   ]
  },
  {
   "cell_type": "markdown",
   "metadata": {},
   "source": [
    "The solution follows this paragraph, but you probably expected something easier! Kleene, who was a student of Alonzo Church, discovered for the first time how to write a predecessor on lambda calculus while at the dentist. This discovery made Church start thinking that every intuitively computable function could be computed using lambda calculus, that is, that the notions of lambda-computable function and intuitively computable function would coincide."
   ]
  },
  {
   "cell_type": "code",
   "execution_count": 38,
   "metadata": {},
   "outputs": [
    {
     "name": "stdout",
     "output_type": "stream",
     "text": [
      "\u001b[?1l\u001b[22;34m\u001b[m\u001b[?1h\u001b[1;94m"
     ]
    }
   ],
   "source": [
    "pred = \\n.\\f.\\x.n (\\g.(\\h.h (g f))) (\\u.x) (\\u.u)"
   ]
  },
  {
   "cell_type": "code",
   "execution_count": 39,
   "metadata": {},
   "outputs": [
    {
     "name": "stdout",
     "output_type": "stream",
     "text": [
      "\u001b[?1l\u001b[22;34mλa.λb.(a (a (a b)))\u001b[32m ⇒ 3\u001b[m\u001b[m\r\n",
      "\u001b[m\u001b[?1h\u001b[1;94m\u001b[?1l\u001b[22;34mλa.λb.b\u001b[32m ⇒ 0, false, alwaysid\u001b[m\u001b[m\r\n",
      "\u001b[m\u001b[?1h\u001b[1;94m\u001b[?1l\u001b[22;34mλa.λb.b\u001b[32m ⇒ 0, false, alwaysid\u001b[m\u001b[m\r\n",
      "\u001b[m\u001b[?1h\u001b[1;94m"
     ]
    }
   ],
   "source": [
    "pred 4\n",
    "pred 1\n",
    "pred 0"
   ]
  },
  {
   "cell_type": "markdown",
   "metadata": {},
   "source": [
    "But why does something like this even work? We will develop an intuition on this kind of constructions later."
   ]
  },
  {
   "cell_type": "markdown",
   "metadata": {},
   "source": [
    "**Exercise:** Use the predecessor function to define the `minus` function. It should return the difference between two numbers. It should return zero whenever the first number is smaller than the second."
   ]
  },
  {
   "cell_type": "code",
   "execution_count": 40,
   "metadata": {},
   "outputs": [
    {
     "name": "stdout",
     "output_type": "stream",
     "text": [
      "\u001b[?1l\u001b[22;34m\u001b[m\u001b[?1h\u001b[1;94m"
     ]
    }
   ],
   "source": [
    "# -- Your solution goes here"
   ]
  },
  {
   "cell_type": "markdown",
   "metadata": {},
   "source": [
    "### 3.3. Predicates on natural numbers\n",
    "\n",
    "This encoding even allow us to write predicates on natural numbers. The first predicate will be a function distinguishing a successor from a zero. It will be user later to build more complex ones.\n",
    "\n",
    "It is built by appliying a `const false` function `n` times to a true constant. Only if it is applied `0` times, it will return a true value."
   ]
  },
  {
   "cell_type": "code",
   "execution_count": 41,
   "metadata": {},
   "outputs": [
    {
     "name": "stdout",
     "output_type": "stream",
     "text": [
      "\u001b[?1l\u001b[22;34m\u001b[m\u001b[?1h\u001b[1;94m"
     ]
    }
   ],
   "source": [
    "iszero = \\n.(n (const false) true)"
   ]
  },
  {
   "cell_type": "code",
   "execution_count": 42,
   "metadata": {},
   "outputs": [
    {
     "name": "stdout",
     "output_type": "stream",
     "text": [
      "\u001b[?1l\u001b[22;34mλa.λb.a\u001b[32m ⇒ true, const\u001b[m\u001b[m\r\n",
      "\u001b[m\u001b[?1h\u001b[1;94m\u001b[?1l\u001b[22;34mλa.λb.b\u001b[32m ⇒ 0, false, alwaysid\u001b[m\u001b[m\r\n",
      "\u001b[m\u001b[?1h\u001b[1;94m\u001b[?1l\u001b[22;34mλa.λb.b\u001b[32m ⇒ 0, false, alwaysid\u001b[m\u001b[m\r\n",
      "\u001b[m\u001b[?1h\u001b[1;94m"
     ]
    }
   ],
   "source": [
    "iszero 0\n",
    "iszero 2\n",
    "iszero 1"
   ]
  },
  {
   "cell_type": "markdown",
   "metadata": {},
   "source": [
    "Using this predicate, we can build `eq` and `leq`, corresponding to $==$ and $\\leq$."
   ]
  },
  {
   "cell_type": "code",
   "execution_count": 43,
   "metadata": {},
   "outputs": [
    {
     "name": "stdout",
     "output_type": "stream",
     "text": [
      "\u001b[?1l\u001b[22;34m\u001b[m\u001b[?1h\u001b[1;94m\u001b[?1l\u001b[22;34m\u001b[m\u001b[?1h\u001b[1;94m"
     ]
    }
   ],
   "source": [
    "leq = \\m.\\n.(iszero (minus m n))\n",
    "eq  = \\m.\\n.(and (leq m n) (leq n m))"
   ]
  },
  {
   "cell_type": "markdown",
   "metadata": {},
   "source": [
    "## 4. Combinatory logic\n",
    "\n",
    "Combinatory logic provides a notation for lambda terms independent from quantified variables. Every lambda expression can be written in terms of three combinators, $S,K,I$, which are defined as\n",
    "\n",
    " - $I = \\lambda x.x$, the identity function.\n",
    " - $K = \\lambda x.\\lambda y.x$, the constant function.\n",
    " - $S = \\lambda x.\\lambda y.\\lambda z. x z (y z)$, a generalized application.\n",
    " \n",
    "The first one, the identity, can be also written as a function of $S$ and $K$."
   ]
  },
  {
   "cell_type": "code",
   "execution_count": 44,
   "metadata": {},
   "outputs": [
    {
     "name": "stdout",
     "output_type": "stream",
     "text": [
      "\u001b[?1l\u001b[22;34m\u001b[m\u001b[?1h\u001b[1;94m\u001b[?1l\u001b[22;34m\u001b[m\u001b[?1h\u001b[1;94m\u001b[?1l\u001b[22;34m\u001b[m\u001b[?1h\u001b[1;94m"
     ]
    }
   ],
   "source": [
    "I = \\x.x\n",
    "K = \\x.\\y.x\n",
    "S = \\x.\\y.\\z.(x z (y z))"
   ]
  },
  {
   "cell_type": "code",
   "execution_count": 45,
   "metadata": {},
   "outputs": [
    {
     "name": "stdout",
     "output_type": "stream",
     "text": [
      "\u001b[?1l\u001b[22;34mλa.a\u001b[32m ⇒ I, ifelse, id\u001b[m\u001b[m\r\n",
      "\u001b[m\u001b[?1h\u001b[1;94m"
     ]
    }
   ],
   "source": [
    "S K K"
   ]
  },
  {
   "cell_type": "markdown",
   "metadata": {},
   "source": [
    "The interesting property of those combinators is that every other lambda expression can be written in terms of them. We can see how a particular lambda expression is written in SKI calculus by turning on the **ski** mode of the interpreter"
   ]
  },
  {
   "cell_type": "code",
   "execution_count": 46,
   "metadata": {},
   "outputs": [
    {
     "name": "stdout",
     "output_type": "stream",
     "text": [
      "\u001b[?1l\u001b[22;34mski mode: on\r\n",
      "\u001b[?1h\u001b[1;94m"
     ]
    }
   ],
   "source": [
    ":ski on"
   ]
  },
  {
   "cell_type": "code",
   "execution_count": 47,
   "metadata": {},
   "outputs": [
    {
     "name": "stdout",
     "output_type": "stream",
     "text": [
      "\u001b[?1l\u001b[22;34mλa.λb.λc.((a c) (b c))\u001b[2;36m ⇒ S\u001b[m\u001b[32m ⇒ S\u001b[m\u001b[m\r\n",
      "\u001b[m\u001b[?1h\u001b[1;94m\u001b[?1l\u001b[22;34mλa.λb.b\u001b[2;36m ⇒ KI\u001b[m\u001b[32m ⇒ 0, false, alwaysid\u001b[m\u001b[m\r\n",
      "\u001b[m\u001b[?1h\u001b[1;94m\u001b[?1l\u001b[22;34mλa.λb.a\u001b[2;36m ⇒ K\u001b[m\u001b[32m ⇒ K, true, const\u001b[m\u001b[m\r\n",
      "\u001b[m\u001b[?1h\u001b[1;94m\u001b[?1l\u001b[22;34mλa.λb.((a a) b)\u001b[2;36m ⇒ SII\u001b[m\u001b[32m ⇒ or\u001b[m\u001b[m\r\n",
      "\u001b[m\u001b[?1h\u001b[1;94m\u001b[?1l\u001b[22;34mλa.λb.((a b) a)\u001b[2;36m ⇒ SSK\u001b[m\u001b[32m ⇒ and\u001b[m\u001b[m\r\n",
      "\u001b[m\u001b[?1h\u001b[1;94m"
     ]
    }
   ],
   "source": [
    "S\n",
    "false\n",
    "true\n",
    "or\n",
    "and"
   ]
  },
  {
   "cell_type": "markdown",
   "metadata": {},
   "source": [
    "**Exercise:** How are Church-encoded numerals represented with SKI combinators? Compute the first four or five numbers and try to come up with the general rule."
   ]
  },
  {
   "cell_type": "code",
   "execution_count": 48,
   "metadata": {},
   "outputs": [
    {
     "name": "stdout",
     "output_type": "stream",
     "text": [
      "\u001b[?1l\u001b[22;34m\u001b[m\u001b[?1h\u001b[1;94m"
     ]
    }
   ],
   "source": [
    "# -- Your solution goes here"
   ]
  },
  {
   "cell_type": "code",
   "execution_count": 49,
   "metadata": {},
   "outputs": [
    {
     "name": "stdout",
     "output_type": "stream",
     "text": [
      "\u001b[?1l\u001b[22;34mski mode: off\u001b[m\r\n",
      "\u001b[?1h\u001b[1;94m"
     ]
    }
   ],
   "source": [
    ":ski off"
   ]
  },
  {
   "cell_type": "markdown",
   "metadata": {},
   "source": [
    "## 5. Data structures"
   ]
  },
  {
   "cell_type": "markdown",
   "metadata": {},
   "source": [
    "### 5.1. Pairs\n",
    "\n",
    "Pairs are easily defined from the boolean logic. The main idea will be that, to apply a pair to a function will be the same thing that to apply the function to its two components.\n",
    "\n",
    "$$ \\mathtt{pair}(a,b)(f) \\equiv f\\ a\\ b $$\n",
    "\n",
    "With this idea, pairs and their two projections are defined as follows."
   ]
  },
  {
   "cell_type": "code",
   "execution_count": 50,
   "metadata": {},
   "outputs": [
    {
     "name": "stdout",
     "output_type": "stream",
     "text": [
      "\u001b[?1l\u001b[22;34m\u001b[m\u001b[?1h\u001b[1;94m\u001b[?1l\u001b[22;34m\u001b[m\u001b[?1h\u001b[1;94m\u001b[?1l\u001b[22;34m\u001b[m\u001b[?1h\u001b[1;94m"
     ]
    }
   ],
   "source": [
    "pair = \\x.\\y.\\z.z x y\n",
    "fst = \\p.p true\n",
    "snd = \\p.p false"
   ]
  },
  {
   "cell_type": "markdown",
   "metadata": {},
   "source": [
    "We use `true` and `false` to select the first or the second argument to the function; it is possible to use the same idea to apply other functions."
   ]
  },
  {
   "cell_type": "code",
   "execution_count": 51,
   "metadata": {},
   "outputs": [
    {
     "name": "stdout",
     "output_type": "stream",
     "text": [
      "\u001b[?1l\u001b[22;34mλa.λb.(a (a (a (a (a (a (a b)))))))\u001b[32m ⇒ 7\u001b[m\u001b[m\r\n",
      "\u001b[m\u001b[?1h\u001b[1;94m\u001b[?1l\u001b[22;34mλa.λb.a\u001b[32m ⇒ K, true, const\u001b[m\u001b[m\r\n",
      "\u001b[m\u001b[?1h\u001b[1;94m"
     ]
    }
   ],
   "source": [
    "(pair 3 4) plus\n",
    "(pair true false) or"
   ]
  },
  {
   "cell_type": "markdown",
   "metadata": {},
   "source": [
    "### 5.2. Lists I: nil and cons\n",
    "\n",
    "Data structures such as lists or binary trees can be represented using the same principle we used to build naturals and booleans. We would need two constructors to represent a list a `nil` signaling the end of the list and a `cons`, joining an element to the head of the list. A list would be something like this\n",
    "\n",
    "$$ \\mathtt{cons}\\ 1\\ (\\mathtt{cons}\\ 2\\ (\\mathtt{cons}\\ 3\\ \\mathtt{nil})).$$\n",
    "\n",
    "As we did with natural numbers, we are going to write a representation independent from the constructors, they are going to be passed as arguments. We need\n",
    "\n",
    "  - `nil`, a list.\n",
    "  - `cons`, a function taking an element (head) and a list (tail) and returning a new list."
   ]
  },
  {
   "cell_type": "code",
   "execution_count": 52,
   "metadata": {},
   "outputs": [
    {
     "name": "stdout",
     "output_type": "stream",
     "text": [
      "\u001b[?1l\u001b[22;34m\u001b[m\u001b[?1h\u001b[1;94m\u001b[?1l\u001b[22;34m\u001b[m\u001b[?1h\u001b[1;94m\u001b[?1l\u001b[22;34m\u001b[m\u001b[?1h\u001b[1;94m\u001b[?1l\u001b[22;34m\u001b[m\u001b[?1h\u001b[1;94m"
     ]
    }
   ],
   "source": [
    "# The interpretation of nil is the nil constructor\n",
    "# The interpretation of (cons h t) is cons of h and the interpretation of t \n",
    "nil  = \\c.\\n.n\n",
    "cons = \\h.\\t.\\c.\\n.(c h (t c n))"
   ]
  },
  {
   "cell_type": "code",
   "execution_count": 53,
   "metadata": {},
   "outputs": [
    {
     "name": "stdout",
     "output_type": "stream",
     "text": [
      "\u001b[?1l\u001b[22;34mλa.λb.((a λc.λd.(c d)) ((((λc.λd.λe.λf.((e c) ((d e) f)) λc.λd.(c (c d))) ((λc.λd.λe.λf.((e c) ((d e) f)) λc.λd.(c (c (c d)))) λc.λd.d)) a) b))\u001b[m\r\n",
      "\u001b[m\u001b[?1h\u001b[1;94m"
     ]
    }
   ],
   "source": [
    "cons 1 (cons 2 (cons 3 nil))"
   ]
  },
  {
   "cell_type": "markdown",
   "metadata": {},
   "source": [
    "This interpretation makes easier to write folding functions for lists. We can define a function on a list simply giving the interpretation for the nil and a binary function as an interpretation for the const. For example, we can add all the elements of a list like this"
   ]
  },
  {
   "cell_type": "code",
   "execution_count": 54,
   "metadata": {},
   "outputs": [
    {
     "name": "stdout",
     "output_type": "stream",
     "text": [
      "\u001b[?1l\u001b[22;34mλa.λb.(a (a (a (a (a (a b))))))\u001b[32m ⇒ 6\u001b[m\u001b[m\r\n",
      "\u001b[m\u001b[?1h\u001b[1;94m"
     ]
    }
   ],
   "source": [
    "(cons 1 (cons 2 (cons 3 nil))) plus 0"
   ]
  },
  {
   "cell_type": "markdown",
   "metadata": {},
   "source": [
    "It is useful to encode this principle into a function called `fold`. We are going to define a summation $\\Sigma$ function and a list product $\\Pi$ function on lists."
   ]
  },
  {
   "cell_type": "code",
   "execution_count": 55,
   "metadata": {},
   "outputs": [
    {
     "name": "stdout",
     "output_type": "stream",
     "text": [
      "\u001b[?1l\u001b[22;34m\u001b[m\u001b[?1h\u001b[1;94m"
     ]
    }
   ],
   "source": [
    "fold = \\c.\\n.\\l.(l c n)"
   ]
  },
  {
   "cell_type": "code",
   "execution_count": 56,
   "metadata": {},
   "outputs": [
    {
     "name": "stdout",
     "output_type": "stream",
     "text": [
      "\u001b[?1l\u001b[22;34m\u001b[m\u001b[?1h\u001b[1;94m\u001b[?1l\u001b[22;34m\u001b[m\u001b[?1h\u001b[1;94m"
     ]
    }
   ],
   "source": [
    "sum  = fold plus 0\n",
    "prod = fold mult 1"
   ]
  },
  {
   "cell_type": "code",
   "execution_count": 57,
   "metadata": {},
   "outputs": [
    {
     "name": "stdout",
     "output_type": "stream",
     "text": [
      "\u001b[?1l\u001b[22;34mλa.λb.(a (a (a (a (a (a (a (a b))))))))\u001b[32m ⇒ 8\u001b[m\u001b[m\r\n",
      "\u001b[m\u001b[?1h\u001b[1;94m\u001b[?1l\u001b[22;34mλa.λb.(a (a (a (a (a (a (a (a (a (a (a (a b))))))))))))\u001b[32m ⇒ 12\u001b[m\u001b[m\r\n",
      "\u001b[m\u001b[?1h\u001b[1;94m"
     ]
    }
   ],
   "source": [
    "sum  (cons 1 (cons 3 (cons 4 nil)))\n",
    "prod (cons 1 (cons 3 (cons 4 nil)))"
   ]
  },
  {
   "cell_type": "markdown",
   "metadata": {},
   "source": [
    "**Exercise:** Write the `any` and `all` functions. They are functions that can be applied over lists of booleans.\n",
    "\n",
    "  - `all` returns true if the list is made up only of `true`s.\n",
    "  - `any` returns true if there is at least one `true` on the list.\n",
    "\n",
    "You may want to use the `fold` function."
   ]
  },
  {
   "cell_type": "code",
   "execution_count": 58,
   "metadata": {},
   "outputs": [
    {
     "name": "stdout",
     "output_type": "stream",
     "text": [
      "\u001b[?1l\u001b[22;34m\u001b[m\u001b[?1h\u001b[1;94m\u001b[?1l\u001b[22;34m\u001b[m\u001b[?1h\u001b[1;94m\u001b[?1l\u001b[22;34m\u001b[m\u001b[?1h\u001b[1;94m"
     ]
    }
   ],
   "source": [
    "# -- Your solution goes here\n",
    "# all = \n",
    "# any ="
   ]
  },
  {
   "cell_type": "markdown",
   "metadata": {},
   "source": [
    "**Exercise**: Write a length function using fold. The function should return the number of elements of the lists, returning 0 if the list is empty."
   ]
  },
  {
   "cell_type": "code",
   "execution_count": 59,
   "metadata": {},
   "outputs": [
    {
     "name": "stdout",
     "output_type": "stream",
     "text": [
      "\u001b[?1l\u001b[22;34m\u001b[m\u001b[?1h\u001b[1;94m\u001b[?1l\u001b[22;34m\u001b[m\u001b[?1h\u001b[1;94m"
     ]
    }
   ],
   "source": [
    "# -- Your solution goes here\n",
    "# length ="
   ]
  },
  {
   "cell_type": "markdown",
   "metadata": {},
   "source": [
    "### 5.3. Lists II: map and filter\n",
    "\n",
    "Map, filter and fold are the most famous examples of higher order functions on lists and a common example of the power of functional programming, which has its roots on lambda calculus.\n",
    "\n",
    "  - The **map** function applies a function `f` to every element on a list.\n",
    "  - The **filter** function removes the elements of the list that do not satisfy a given predicate. It \"filters\"      \n",
    "    the list, leaving only elements that satisfy the predicate.\n",
    "\n",
    "We are going to implement these functions using our previously defined `fold`."
   ]
  },
  {
   "cell_type": "code",
   "execution_count": 60,
   "metadata": {},
   "outputs": [
    {
     "name": "stdout",
     "output_type": "stream",
     "text": [
      "\u001b[?1l\u001b[22;34m\u001b[m\u001b[?1h\u001b[1;94m\u001b[?1l\u001b[22;34m\u001b[m\u001b[?1h\u001b[1;94m"
     ]
    }
   ],
   "source": [
    "# Given a cons h t, we return a cons (f h) t; given a nil, we return a nil\n",
    "map = \\f.(fold (\\h.\\t.cons (f h) t) nil)"
   ]
  },
  {
   "cell_type": "code",
   "execution_count": 61,
   "metadata": {},
   "outputs": [
    {
     "name": "stdout",
     "output_type": "stream",
     "text": [
      "\u001b[?1l\u001b[22;34mλa.λb.(a (a (a (a (a (a b))))))\u001b[32m ⇒ 6\u001b[m\u001b[m\r\n",
      "\u001b[m\u001b[?1h\u001b[1;94m\u001b[?1l\u001b[22;34mλa.λb.(a (a (a (a (a (a (a (a (a b)))))))))\u001b[32m ⇒ 9\u001b[m\u001b[m\r\n",
      "\u001b[m\u001b[?1h\u001b[1;94m\u001b[?1l\u001b[22;34mλa.λb.b\u001b[32m ⇒ nil, 0, false, alwaysid\u001b[m\u001b[m\r\n",
      "\u001b[m\u001b[?1h\u001b[1;94m"
     ]
    }
   ],
   "source": [
    "sum               (cons 1 (cons 2 (cons 3 nil)))\n",
    "sum (map succ     (cons 1 (cons 2 (cons 3 nil))))\n",
    "sum (map (mult 0) (cons 1 (cons 2 (cons 3 nil))))"
   ]
  },
  {
   "cell_type": "markdown",
   "metadata": {},
   "source": [
    "**Exercise:** Write functions\n",
    "\n",
    "  - doubling the value of each number on a list.\n",
    "  - negating each value of a list of booleans.\n",
    "  "
   ]
  },
  {
   "cell_type": "code",
   "execution_count": 62,
   "metadata": {},
   "outputs": [
    {
     "name": "stdout",
     "output_type": "stream",
     "text": [
      "\u001b[?1l\u001b[22;34m\u001b[m\u001b[?1h\u001b[1;94m\u001b[?1l\u001b[22;34m\u001b[m\u001b[?1h\u001b[1;94m\u001b[?1l\u001b[22;34m\u001b[m\u001b[?1h\u001b[1;94m"
     ]
    }
   ],
   "source": [
    "# -- Your solution goes here\n",
    "# doublelist = \n",
    "# negate ="
   ]
  },
  {
   "cell_type": "markdown",
   "metadata": {},
   "source": [
    "Filter can be defined using a boolean to decide at each step whether to return a list with a head or return the tail ignoring the head, like this"
   ]
  },
  {
   "cell_type": "code",
   "execution_count": 63,
   "metadata": {},
   "outputs": [
    {
     "name": "stdout",
     "output_type": "stream",
     "text": [
      "\u001b[?1l\u001b[22;34m\u001b[m\u001b[?1h\u001b[1;94m"
     ]
    }
   ],
   "source": [
    "filter = \\p.(foldr (\\h.\\t.((p h) (cons h t) t)) nil)"
   ]
  },
  {
   "cell_type": "markdown",
   "metadata": {},
   "source": [
    "**Exercise:** Write a function that, given any list, returns a list containing only the even numbers on the list."
   ]
  },
  {
   "cell_type": "code",
   "execution_count": 64,
   "metadata": {},
   "outputs": [
    {
     "name": "stdout",
     "output_type": "stream",
     "text": [
      "\u001b[?1l\u001b[22;34m\u001b[m\u001b[?1h\u001b[1;94m\u001b[?1l\u001b[22;34m\u001b[m\u001b[?1h\u001b[1;94m"
     ]
    }
   ],
   "source": [
    "# -- Your solution goes here\n",
    "# filterodd = "
   ]
  },
  {
   "cell_type": "markdown",
   "metadata": {},
   "source": [
    "### 5.4. Binary trees\n",
    "\n",
    "Lists have been defined using two constructors and trees will be defined using the same technique. The only difference with lists is that the `cons` constructor is going to be replaced by a `node` constructor, which takes two trees as arguments. That is, a binary tree is\n",
    "\n",
    "  - an empty tree.\n",
    "  - a node, containing a label, a left subtree, and a right subtree. "
   ]
  },
  {
   "cell_type": "code",
   "execution_count": 65,
   "metadata": {},
   "outputs": [
    {
     "name": "stdout",
     "output_type": "stream",
     "text": [
      "\u001b[?1l\u001b[22;34m\u001b[m\u001b[?1h\u001b[1;94m"
     ]
    }
   ],
   "source": [
    "node = \\x.\\l.\\r.\\f.\\n.(f x (l f n) (r f n))"
   ]
  },
  {
   "cell_type": "markdown",
   "metadata": {},
   "source": [
    "An example of binary tree of natural numbers is the following one"
   ]
  },
  {
   "cell_type": "code",
   "execution_count": 66,
   "metadata": {},
   "outputs": [
    {
     "name": "stdout",
     "output_type": "stream",
     "text": [
      "\u001b[?1l\u001b[22;34mλa.λb.(((a λc.λd.(c (c (c (c d))))) (((((λc.λd.λe.λf.λg.(((f c) ((d f) g)) ((e f) g)) λc.λd.(c (c d))) λc.λd.d) λc.λd.d) a) b)) (((((λc.λd.λe.λf.λg.(((f c) ((d f) g)) ((e f) g)) λc.λd.(c (c (c d)))) λc.λd.d) λc.λd.d) a) b))\u001b[m\r\n",
      "\u001b[m\u001b[?1h\u001b[1;94m"
     ]
    }
   ],
   "source": [
    "node 4 (node 2 nil nil) (node 3 nil nil)"
   ]
  },
  {
   "cell_type": "markdown",
   "metadata": {},
   "source": [
    "Defining functions using a fold-like combinator is again very simple due to the chosen representation. We are going to need also a variant of the usual function acting on three arguments, the label, the right node and the left node."
   ]
  },
  {
   "cell_type": "code",
   "execution_count": 67,
   "metadata": {},
   "outputs": [
    {
     "name": "stdout",
     "output_type": "stream",
     "text": [
      "\u001b[?1l\u001b[22;34m\u001b[m\u001b[?1h\u001b[1;94m"
     ]
    }
   ],
   "source": [
    "triplesum = \\a.\\b.\\c.plus (plus a b) c"
   ]
  },
  {
   "cell_type": "code",
   "execution_count": 68,
   "metadata": {},
   "outputs": [
    {
     "name": "stdout",
     "output_type": "stream",
     "text": [
      "\u001b[?1l\u001b[22;34mλa.λb.(a (a (a (a (a (a (a (a (a b)))))))))\u001b[32m ⇒ 9\u001b[m\u001b[m\r\n",
      "\u001b[m\u001b[?1h\u001b[1;94m"
     ]
    }
   ],
   "source": [
    "(node 4 (node 2 nil nil) (node 3 nil nil)) triplesum 0"
   ]
  },
  {
   "cell_type": "markdown",
   "metadata": {},
   "source": [
    "## 6. Recursion\n",
    "\n",
    "We can use and define fixpoint operators in order to define recursive\n",
    "functions. The problem they have is that they can not be evaluated\n",
    "without arguments into a closed form, so we have to delay the\n",
    "evaluation of the expression when we bind it. To do this, we use the\n",
    "`!=` operator, which binds an expression to a variable **without** simplifying it.\n"
   ]
  },
  {
   "cell_type": "code",
   "execution_count": 69,
   "metadata": {},
   "outputs": [
    {
     "name": "stdout",
     "output_type": "stream",
     "text": [
      "\u001b[?1l\u001b[22;34m\u001b[m\u001b[?1h\u001b[1;94m"
     ]
    }
   ],
   "source": [
    "fix != (\\f.(\\x.f (x x)) (\\x.f (x x)))"
   ]
  },
  {
   "cell_type": "markdown",
   "metadata": {},
   "source": [
    "This `fix` operator allows us to use the function we are defining on its own definition. The function will be passed as the first argument to the argument of fix, as `f = fix (\\f. ...)`. It is important to notice that recursive functions, even if they work, cannot be evaluated alone without entering an infinite beta-reduction loop. We need the `!=` operator when defining recursive functions to prevent them from expanding.\n",
    "\n",
    "Our first example is the **factorial** function."
   ]
  },
  {
   "cell_type": "code",
   "execution_count": 70,
   "metadata": {},
   "outputs": [
    {
     "name": "stdout",
     "output_type": "stream",
     "text": [
      "\u001b[?1l\u001b[22;34m\u001b[m\u001b[?1h\u001b[1;94m"
     ]
    }
   ],
   "source": [
    "fact != fix (\\f.\\n.iszero n 1 (mult n (f (pred n))))"
   ]
  },
  {
   "cell_type": "code",
   "execution_count": 71,
   "metadata": {},
   "outputs": [
    {
     "name": "stdout",
     "output_type": "stream",
     "text": [
      "\u001b[?1l\u001b[22;34mλa.λb.(a (a (a (a (a (a b))))))\u001b[32m ⇒ 6\u001b[m\u001b[m\r\n",
      "\u001b[m\u001b[?1h\u001b[1;94m\u001b[?1l\u001b[22;34mλa.λb.(a (a (a (a (a (a (a (a (a (a (a (a (a (a (a (a (a (a (a (a (a (a (a (a b))))))))))))))))))))))))\u001b[m\r\n",
      "\u001b[m\u001b[?1h\u001b[1;94m"
     ]
    }
   ],
   "source": [
    "fact 3\n",
    "fact 4"
   ]
  },
  {
   "cell_type": "markdown",
   "metadata": {},
   "source": [
    "Thee complexity of computing a factorial grows exponentially, and the lambda calculus (and particularly, this encoding of natural numbers) was not thought to be efficient. `fact 6` will surely be too much for the interpreter.\n",
    "\n",
    "As a last example, we are going to define **Fibonacci** numbers."
   ]
  },
  {
   "cell_type": "code",
   "execution_count": 72,
   "metadata": {},
   "outputs": [
    {
     "name": "stdout",
     "output_type": "stream",
     "text": [
      "\u001b[?1l\u001b[22;34m\u001b[m\u001b[?1h\u001b[1;94m"
     ]
    }
   ],
   "source": [
    "fib != fix (\\f.\\n.iszero n 1 (plus (f (pred n)) (f (pred (pred n)))))"
   ]
  },
  {
   "cell_type": "code",
   "execution_count": 73,
   "metadata": {},
   "outputs": [
    {
     "name": "stdout",
     "output_type": "stream",
     "text": [
      "\u001b[?1l\u001b[22;34mλa.λb.(a b)\u001b[32m ⇒ 1\u001b[m\u001b[m\r\n",
      "\u001b[m\u001b[?1h\u001b[1;94m\u001b[?1l\u001b[22;34mλa.λb.(a (a b))\u001b[32m ⇒ 2\u001b[m\u001b[m\r\n",
      "\u001b[m\u001b[?1h\u001b[1;94m\u001b[?1l\u001b[22;34mλa.λb.(a (a (a b)))\u001b[32m ⇒ 3\u001b[m\u001b[m\r\n",
      "\u001b[m\u001b[?1h\u001b[1;94m\u001b[?1l\u001b[22;34mλa.λb.(a (a (a (a (a b)))))\u001b[32m ⇒ 5\u001b[m\u001b[m\r\n",
      "\u001b[m\u001b[?1h\u001b[1;94m\u001b[?1l\u001b[22;34mλa.λb.(a (a (a (a (a (a (a (a b))))))))\u001b[32m ⇒ 8\u001b[m\u001b[m\r\n",
      "\u001b[m\u001b[?1h\u001b[1;94m"
     ]
    }
   ],
   "source": [
    "fib 0\n",
    "fib 1\n",
    "fib 2\n",
    "fib 3\n",
    "fib 4"
   ]
  },
  {
   "cell_type": "markdown",
   "metadata": {},
   "source": [
    "## 7. Types\n",
    "\n",
    "Until now, we have been talking about untyped lambda calculus, but we are now going to deal with the simply-typed lambda calculus. The main differences are that\n",
    "\n",
    "  * every term has a type;\n",
    "  * only a subset of the lambda expressions can be written in simply-typed lambda calculus, the typable ones;\n",
    "  * every term normalizes, that is, every computation finishes;\n",
    "  * as a consequence, it is not Turing-complete.\n",
    "  \n",
    "The command `:types on` activates types. Types are displayed with every lambda expression, but certain lambda expressions which cannot be typed cannot be used anymore. The `fix` operator is an example. "
   ]
  },
  {
   "cell_type": "code",
   "execution_count": 74,
   "metadata": {},
   "outputs": [
    {
     "name": "stdout",
     "output_type": "stream",
     "text": [
      "\u001b[?1l\u001b[22;34mtypes: on\r\n",
      "\u001b[?1h\u001b[1;94m"
     ]
    }
   ],
   "source": [
    ":types on"
   ]
  },
  {
   "cell_type": "code",
   "execution_count": 75,
   "metadata": {},
   "outputs": [
    {
     "name": "stdout",
     "output_type": "stream",
     "text": [
      "\u001b[?1l\u001b[22;34mλa.a\u001b[32m ⇒ I, ifelse, id\u001b[m\u001b[22;33m :: A → A\u001b[m\u001b[m\r\n",
      "\u001b[m\u001b[?1h\u001b[1;94m\u001b[?1l\u001b[22;34mλa.λb.a\u001b[32m ⇒ K, true, const\u001b[m\u001b[22;33m :: A → B → A\u001b[m\u001b[m\r\n",
      "\u001b[m\u001b[?1h\u001b[1;94m\u001b[?1l\u001b[22;34m\u001b[22;31mError: non typeable expression\u001b[m\r\n",
      "\u001b[m\u001b[?1h\u001b[1;94m"
     ]
    }
   ],
   "source": [
    "id\n",
    "K\n",
    "fix"
   ]
  },
  {
   "cell_type": "markdown",
   "metadata": {},
   "source": [
    "A type is written as a set of type variables and arrows, where `A -> B` represents the type of a function between `A` and `B`. Currying works also with types, and a multiargument function must be written as `A -> B -> C`. The interpreter will always try to infer the **most general type**, that is, it is preferible to have `A -> B` than the particular case `A -> C -> D` where `B` happens to be `C -> D`. "
   ]
  },
  {
   "cell_type": "code",
   "execution_count": 76,
   "metadata": {},
   "outputs": [
    {
     "name": "stdout",
     "output_type": "stream",
     "text": [
      "\u001b[?1l\u001b[22;34mλa.λb.λc.λd.((a c) ((b c) d))\u001b[32m ⇒ plus\u001b[m\u001b[22;33m :: (A → B → C) → (A → D → B) → A → D → C\u001b[m\u001b[m\r\n",
      "\u001b[m\u001b[?1h\u001b[1;94m\u001b[?1l\u001b[22;34mλa.λb.λc.(b (b (b ((a b) c))))\u001b[22;33m :: ((A → A) → B → A) → (A → A) → B → A\u001b[m\u001b[m\r\n",
      "\u001b[m\u001b[?1h\u001b[1;94m\u001b[?1l\u001b[22;34mλa.λb.(a (a (a (a (a b)))))\u001b[32m ⇒ 5\u001b[m\u001b[22;33m :: (A → A) → A → A\u001b[m\u001b[m\r\n",
      "\u001b[m\u001b[?1h\u001b[1;94m"
     ]
    }
   ],
   "source": [
    "plus\n",
    "plus 3\n",
    "plus 3 2"
   ]
  },
  {
   "cell_type": "markdown",
   "metadata": {},
   "source": [
    "### 7.1. Propositions as types\n",
    "\n",
    "What types are inhabited? It is easy to find an expression of the type `A -> A`, but it seems that there is no expression of type `A -> B`. We can reason that any expression of that type should be able to transform any given input type onto any desired output type, and that such an expression would not be possible.\n",
    "\n",
    "The rules of lambda calculus are similar to the rules of the intuitionistic propositional logic; this means that a type will be inhabited if and only if the type, reading arrows as logical implications, is a tautology of propositional logic.\n",
    "\n",
    "The axioms of intuistic propositional logic are\n",
    "\n",
    "  * every expression implies itself, `A -> A`.\n",
    "  * we can discard any assumption to arrive at a conclusion `A -> B -> A`.\n",
    "  * an assumption can be used multiple times to arrive at intermediate conclusions, `(A -> B -> C) -> (A -> B) -> A -> C`.\n",
    "  \n",
    "Those are precisely the types of the SKI combinators. As any lambda expression can be written in terms of these combinators, every lambda expression of a type is actually a **proof** of the proposition the type represents."
   ]
  },
  {
   "cell_type": "code",
   "execution_count": 77,
   "metadata": {},
   "outputs": [
    {
     "name": "stdout",
     "output_type": "stream",
     "text": [
      "\u001b[?1l\u001b[22;34mλa.a\u001b[32m ⇒ I, ifelse, id\u001b[m\u001b[22;33m :: A → A\u001b[m\u001b[m\r\n",
      "\u001b[m\u001b[?1h\u001b[1;94m\u001b[?1l\u001b[22;34mλa.λb.a\u001b[32m ⇒ K, true, const\u001b[m\u001b[22;33m :: A → B → A\u001b[m\u001b[m\r\n",
      "\u001b[m\u001b[?1h\u001b[1;94m\u001b[?1l\u001b[22;34mλa.λb.λc.((a c) (b c))\u001b[32m ⇒ S\u001b[m\u001b[22;33m :: (A → B → C) → (A → B) → A → C\u001b[m\u001b[m\r\n",
      "\u001b[m\u001b[?1h\u001b[1;94m"
     ]
    }
   ],
   "source": [
    "I\n",
    "K\n",
    "S"
   ]
  },
  {
   "cell_type": "markdown",
   "metadata": {},
   "source": [
    "We can define some logical connectives using only the implication. For example, the negation of a proposition $A$ would be a function taking $A$ and returning any given type. As we discussed earlier, this should be impossible, so the existence of a function `T -> B` where `B` is a free variable should be a proof of the type `T` not being inhabited.\n",
    "\n",
    "For example, we can write a proof of the *modus ponens* by presenting an inhabitant of the type $A \\to (A \\to B) \\to B$, where A and B are free type variables."
   ]
  },
  {
   "cell_type": "code",
   "execution_count": 78,
   "metadata": {},
   "outputs": [
    {
     "name": "stdout",
     "output_type": "stream",
     "text": [
      "\u001b[?1l\u001b[22;34mλa.λb.(b a)\u001b[22;33m :: A → (A → B) → B\u001b[m\u001b[m\r\n",
      "\u001b[m\u001b[?1h\u001b[1;94m"
     ]
    }
   ],
   "source": [
    "\\a.\\b.b a"
   ]
  },
  {
   "cell_type": "markdown",
   "metadata": {},
   "source": [
    "### 7.2. Products, unions and logic"
   ]
  },
  {
   "cell_type": "markdown",
   "metadata": {},
   "source": [
    "Mikrokosmos supports product, union, unit and void types. They can be used by loading the library **types** as"
   ]
  },
  {
   "cell_type": "code",
   "execution_count": 79,
   "metadata": {},
   "outputs": [
    {
     "name": "stdout",
     "output_type": "stream",
     "text": [
      "\u001b[?1l\u001b[1;34mLoading /home/mario/.mikrokosmos/types.mkr...\u001b[m\r\n",
      "\u001b[22;34m\u001b[m\u001b[?1h\u001b[1;94m"
     ]
    }
   ],
   "source": [
    ":load types"
   ]
  },
  {
   "cell_type": "markdown",
   "metadata": {},
   "source": [
    "and using the following typed constructors and recursors\n",
    "\n",
    "| Constructor | Type  |\n",
    "|:-------------:|:--------:|\n",
    "| `(-,-)`     | `A → B → A × B` |\n",
    "| `fst` | `(A × B) → A` |\n",
    "| `snd` | `(A × B) → B` |\n",
    "| `inl` | `A → A + B` |\n",
    "| `inr` | `B → A + B`|\n",
    "| `unit` | `⊤` |\n",
    "| `abort` | `⊥ → A` |\n",
    "| `absurd` | `⊥ → ⊥` |\n",
    "| `caseof` | `(A + B) → (A → C) → (B → C) → C` |\n",
    "\n",
    "The following are examples of the use of typed constructors."
   ]
  },
  {
   "cell_type": "code",
   "execution_count": 94,
   "metadata": {},
   "outputs": [
    {
     "name": "stdout",
     "output_type": "stream",
     "text": [
      "\u001b[?1l\u001b[22;34mλa.λb.(a (a b))\u001b[32m ⇒ 2\u001b[m\u001b[22;33m :: (A → A) → A → A\u001b[m\u001b[m\r\n",
      "\u001b[m\u001b[?1h\u001b[1;94m\u001b[?1l\u001b[22;34mλa.λb.(a (a (a b)))\u001b[32m ⇒ 3\u001b[m\u001b[22;33m :: (A → A) → A → A\u001b[m\u001b[m\r\n",
      "\u001b[m\u001b[?1h\u001b[1;94m\u001b[?1l\u001b[22;34m(INL λa.λb.a)\u001b[22;33m :: (A → B → A) + C\u001b[m\u001b[m\r\n",
      "\u001b[m\u001b[?1h\u001b[1;94m\u001b[?1l\u001b[22;34m(INR λa.λb.b)\u001b[22;33m :: A + (B → C → C)\u001b[m\u001b[m\r\n",
      "\u001b[m\u001b[?1h\u001b[1;94m\u001b[?1l\u001b[22;34mλa.λb.(a (a (a (a (a (a b))))))\u001b[32m ⇒ 6\u001b[m\u001b[22;33m :: (A → A) → A → A\u001b[m\u001b[m\r\n",
      "\u001b[m\u001b[?1h\u001b[1;94m\u001b[?1l\u001b[22;34mλa.λb.(a (a (a (a b))))\u001b[32m ⇒ 4\u001b[m\u001b[22;33m :: (A → A) → A → A\u001b[m\u001b[m\r\n",
      "\u001b[m\u001b[?1h\u001b[1;94m\u001b[?1l\u001b[22;34mUNIT\u001b[32m ⇒ unit\u001b[m\u001b[22;33m :: ⊤\u001b[m\u001b[m\r\n",
      "\u001b[m\u001b[?1h\u001b[1;94m"
     ]
    }
   ],
   "source": [
    "fst (2,3)\n",
    "snd (2,3)\n",
    "inl true\n",
    "inr false\n",
    "caseof (inl 3) (mult 2) (plus 1)\n",
    "caseof (inr 3) (mult 2) (plus 1)\n",
    "unit"
   ]
  },
  {
   "cell_type": "markdown",
   "metadata": {},
   "source": [
    "These types complete the correspondence between intuitionistic logic and lambda calculus. A type is inhabited if and only if its proposition is provable.\n",
    "\n",
    "| Description | Type | Proposition | Description |\n",
    "|:-------------|:-----:|:-----------:|---------:|\n",
    "| Product type | `A × B` | `A ∧ B` | Logical conjunction |\n",
    "| Disjoint union type | `A + B` | `A ∨ B` | Logical disjunction |\n",
    "| Unit type | `⊤` | `⊤` | True proposition |\n",
    "| Empty type | `⊥` | `⊥` | False proposition |"
   ]
  },
  {
   "cell_type": "markdown",
   "metadata": {},
   "source": [
    "The characteristic difference of classical versus intuitionistic logic is that $A \\vee \\neg A$ and $\\neg \\neg A \\to A$ (the law of excluded middle, LEM) are not provable on intuitionistic logic. It is not possible to find an expression of type `(A -> C) -> ((A -> F) -> C) -> C`, which would correspond to $A \\vee \\neg A$.\n",
    "\n",
    "It is possible, however, to prove $\\neg \\neg (A \\vee \\neg A)$."
   ]
  },
  {
   "cell_type": "code",
   "execution_count": 95,
   "metadata": {},
   "outputs": [
    {
     "name": "stdout",
     "output_type": "stream",
     "text": [
      "\u001b[?1l\u001b[22;34m\u001b[m\u001b[?1h\u001b[1;94m\u001b[?1l\u001b[22;34mλa.(a λb.λc.(c λd.(a λe.λf.(e d))))\u001b[32m ⇒ notnotlem\u001b[m\u001b[22;33m :: (((A → B) → ((A → C) → B) → B) → C) → C\u001b[m\u001b[m\r\n",
      "\u001b[m\u001b[?1h\u001b[1;94m"
     ]
    }
   ],
   "source": [
    "notnotlem = \\f.f (\\n.\\m.m (\\a. f (\\n.\\m.n a)))\n",
    "notnotlem"
   ]
  },
  {
   "cell_type": "code",
   "execution_count": 96,
   "metadata": {},
   "outputs": [
    {
     "name": "stdout",
     "output_type": "stream",
     "text": [
      "\u001b[?1l\u001b[22;34mtypes: off\u001b[m\r\n",
      "\u001b[?1h\u001b[1;94m"
     ]
    }
   ],
   "source": [
    ":types off"
   ]
  },
  {
   "cell_type": "markdown",
   "metadata": {},
   "source": [
    "## 8. Libraries\n",
    "\n",
    "Mikrokosmos comes bundled with a set of standard libraries which can be loaded using `:load std`. They provide the majority of the functions defined on this tutorial and some more."
   ]
  },
  {
   "cell_type": "code",
   "execution_count": 97,
   "metadata": {},
   "outputs": [
    {
     "name": "stdout",
     "output_type": "stream",
     "text": [
      "\u001b[?1l\u001b[1;34mLoading /home/mario/.mikrokosmos/logic.mkr...\u001b[m\r\n",
      "\u001b[1;34mLoading /home/mario/.mikrokosmos/nat.mkr...\u001b[m\r\n",
      "\u001b[1;34mLoading /home/mario/.mikrokosmos/ski.mkr...\u001b[m\r\n",
      "\u001b[1;34mLoading /home/mario/.mikrokosmos/datastructures.mkr...\u001b[m\r\n",
      "\u001b[1;34mLoading /home/mario/.mikrokosmos/fixpoint.mkr...\u001b[m\r\n",
      "\u001b[1;34mLoading /home/mario/.mikrokosmos/std.mkr...\u001b[m\r\n",
      "\u001b[22;34m\u001b[m\u001b[?1h\u001b[1;94m"
     ]
    }
   ],
   "source": [
    ":load std"
   ]
  },
  {
   "cell_type": "code",
   "execution_count": 99,
   "metadata": {},
   "outputs": [
    {
     "name": "stdout",
     "output_type": "stream",
     "text": [
      "\u001b[?1l\u001b[22;34mλa.λb.(a (a (a (a (a b)))))\u001b[32m ⇒ 5\u001b[m\u001b[m\r\n",
      "\u001b[m\u001b[?1h\u001b[1;94m"
     ]
    }
   ],
   "source": [
    "(S plus succ) 2"
   ]
  }
 ],
 "metadata": {
  "kernelspec": {
   "display_name": "IMikrokosmos",
   "language": "",
   "name": "imikrokosmos"
  },
  "language_info": {
   "codemirror_mode": "mikrokosmos",
   "file_extension": ".mkr",
   "mimetype": "text/plain",
   "name": "Mikrokosmos"
  }
 },
 "nbformat": 4,
 "nbformat_minor": 2
}
